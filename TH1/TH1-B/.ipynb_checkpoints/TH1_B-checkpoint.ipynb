{
 "cells": [
  {
   "cell_type": "markdown",
   "id": "429d0114-a31e-40f9-95b4-6e84ba3f6d03",
   "metadata": {},
   "source": [
    "# CƠ BẢN VỀ NGÔN NGỮ LẬP TRÌNH PYTHON"
   ]
  },
  {
   "cell_type": "markdown",
   "id": "7be5ba34-6f31-44a7-8043-94913bcc631e",
   "metadata": {},
   "source": [
    "## 2.1 Nhập/xuất, biểu thức tính toán"
   ]
  },
  {
   "cell_type": "markdown",
   "id": "0094b46e-29d5-4ffd-b4a9-5e9589da915c",
   "metadata": {},
   "source": [
    "### Bài 1. Tính giá trị hàm số\n",
    "Hãy viết chương trình nhập vào số thực x và tính giá trị biểu thức:\n",
    "$f(x) = x + \\frac{x^5}{5!} + \\frac{\\sqrt{|x|}}{x^{3/2}}$"
   ]
  },
  {
   "cell_type": "code",
   "execution_count": 1,
   "id": "f4b0d3ca-c310-4174-92fc-bf0a77e70407",
   "metadata": {},
   "outputs": [
    {
     "name": "stdin",
     "output_type": "stream",
     "text": [
      "Moi ban nhap vao gia tri cua bien so x:  3\n"
     ]
    },
    {
     "name": "stdout",
     "output_type": "stream",
     "text": [
      "Gia tri cua ham so f(3.0) =  5.36.\n"
     ]
    }
   ],
   "source": [
    "import math\n",
    "# Nhập dữ liệu\n",
    "x = float(input('Moi ban nhap vao gia tri cua bien so x: '))\n",
    "# Xử lý\n",
    "\"\"\" CÁC BẠN LÀM BÀI Ở ĐÂY \"\"\"\n",
    "f_x = x + (x ** 5) / (1 * 2 * 3 * 4 * 5) + math.sqrt(math.fabs(x)) / math.pow(x, 3.0 / 2)\n",
    "# Xuất dữ liệu\n",
    "print(f'Gia tri cua ham so f({x}) = {f_x: .2f}.')"
   ]
  },
  {
   "cell_type": "markdown",
   "id": "2a28d91a-93ee-453b-ad7b-7a202aca33c7",
   "metadata": {},
   "source": [
    "### Bài 2. Đổi sang giờ phút giây\n",
    "Một thiết bị hoạt động được t giây. Hãy viết chương trình chuyển số giây đó dưới dạng số giờ, số phút và số giây."
   ]
  },
  {
   "cell_type": "code",
   "execution_count": 2,
   "id": "c3cdb29a-8bc7-486c-9274-ec863ed3ded1",
   "metadata": {},
   "outputs": [
    {
     "name": "stdin",
     "output_type": "stream",
     "text": [
      "Nhap vao tong so giay:  250\n"
     ]
    },
    {
     "name": "stdout",
     "output_type": "stream",
     "text": [
      "250 giay co dang 0:4:10\n"
     ]
    }
   ],
   "source": [
    "## Nhập dữ liệu\n",
    "t = int(input('Nhap vao tong so giay: '))\n",
    "# Xử lý\n",
    "\"\"\" CÁC BẠN LÀM BÀI Ở ĐÂY \"\"\"\n",
    "hh = t // (60*60)\n",
    "mm = (t % (60 * 60)) // 60\n",
    "ss = t % 60\n",
    "# Xuất dữ liệu\n",
    "print(f'{t} giay co dang {hh}:{mm}:{ss}')"
   ]
  },
  {
   "cell_type": "markdown",
   "id": "7c46841a-86f7-4d39-b9ee-9c2ccfda32f2",
   "metadata": {},
   "source": [
    "## 2.2 Cấu trúc lựa chọn"
   ]
  },
  {
   "cell_type": "markdown",
   "id": "98761812-9aad-440c-a31b-fca02c532520",
   "metadata": {},
   "source": [
    "### Bài 3. Giải phuơng trình bậc 1\n",
    "Nhập 2 số thực a, b. Tìm nghiệm của phương trình bậc 1 ax + b = 0."
   ]
  },
  {
   "cell_type": "code",
   "execution_count": null,
   "id": "ca08bc3a-3fe6-4d1d-ae03-2844abcd3b6c",
   "metadata": {},
   "outputs": [],
   "source": [
    "a = int(input('Moi ban nhap he so a: '))\n",
    "b = int(input('Moi ban nhap he so b: '))\n",
    "# Xử lý\n",
    "\"\"\" CÁC BẠN LÀM BÀI Ở ĐÂY \"\"\"\n",
    "flag, x = None, None\n",
    "if a == 0: # b = 0\n",
    "if b == 0: # 0 = 0 --> vsn\n",
    "flag = -1 # vsn\n",
    "else: # b<>0: = 0 --> vn\n",
    "flag = 0 # vn\n",
    "else: # a<>0: x = -b / a\n",
    "flag = 1\n",
    "x = -b / a\n",
    "# if\n",
    "# Xuất dữ liệu\n",
    "s = f'Phuong trinh {a}x + {b} = 0'\n",
    "if flag == -1:\n",
    "print(f'{s} vo so nghiem.')\n",
    "elif flag == 0:\n",
    "print(f'{s} vo nghiem.')\n",
    "else:\n",
    "print(f'{s} co 1 nghiem x = {x: .2f}.')"
   ]
  },
  {
   "cell_type": "markdown",
   "id": "91188880-9cbb-4061-9d95-2fc31ad55985",
   "metadata": {},
   "source": [
    "### Bài 4. Chuyển ký số sang số\n",
    "Nhập một chuỗi s là chuỗi biểu diễn ký tự số trong tiếng Anh gồm {zero, one, two, three, four, five, six,\n",
    "seven, eight, nine}. Hãy kiểm tra chuỗi nhập có hợp lệ không? Nếu hợp lệ thì in ra ký số của chuỗi đó và\n",
    "chuỗi ký số bên tiếng việt tương ứng."
   ]
  },
  {
   "cell_type": "code",
   "execution_count": null,
   "id": "7c7536f4-841f-4f17-b3b7-29a526343265",
   "metadata": {},
   "outputs": [],
   "source": [
    "s = input(\"Moi ban nhap chuoi ky so s: \")\n",
    "en = [\"zero\", \"one\", \"two\", \"three\", \"four\", \"five\", \"six\", \"seven\", \"eight\", \"nine\"]\n",
    "vi = [\"khong\", \"mot\", \"hai\", \"ba\", \"bon\", \"nam\", \"sau\", \"bay\", \"tam\", \"chin\"]\n",
    "num = [0, 1, 2, 3, 4, 5, 6, 7, 8, 9]\n",
    "\"\"\" CÁC BẠN LÀM BÀI Ở ĐÂY \"\"\"\n",
    "if s.lower() not in en:\n",
    "print(\"Chuoi vua nhap khong hop le!\")\n",
    "else:\n",
    "print(\"Chuoi vua nhap hop le!\")\n",
    "p = en.index(s.lower())\n",
    "print(f'\"{s}\" bieu dien cho \"{num[p]}\" va ung voi tieng Viet \"{vi[p]}\"')"
   ]
  },
  {
   "cell_type": "markdown",
   "id": "f32386e2-576b-4626-8b9b-37f7547ce164",
   "metadata": {},
   "source": [
    "## 2.3 Cấu trúc lặp"
   ]
  },
  {
   "cell_type": "markdown",
   "id": "01bac5be-6dac-426e-abb3-78a73f6b6809",
   "metadata": {},
   "source": [
    "## Bài 5. Tính tổng các số chẵn\n",
    "Nhập một số nguyên n. Hãy tính tổng các số chẵn từ 1 đến n."
   ]
  },
  {
   "cell_type": "code",
   "execution_count": null,
   "id": "b651ffcf-ba44-4232-a7ff-65e24d83a0f0",
   "metadata": {},
   "outputs": [],
   "source": [
    "n = int(input(\"Moi ban nhap so nguyen n: \"))\n",
    "# Xuất dữ liệu\n",
    "\"\"\" CÁC BẠN LÀM BÀI Ở ĐÂY \"\"\"\n",
    "a_n = range(1, n + 1) # sinh khoản các số từ 1 đến n\n",
    "s = 0\n",
    "for i in a_n:\n",
    "if i % 2 == 0:\n",
    "s = s + i\n",
    "# if\n",
    "# for\n",
    "print(f'Tong cac so chan tu 1 den {n} la {s}.')"
   ]
  },
  {
   "cell_type": "code",
   "execution_count": null,
   "id": "06006b45-8625-4e71-993a-8edc6285040c",
   "metadata": {},
   "outputs": [],
   "source": [
    "# Nhập dữ liệu\n",
    "n = int(input(\"Moi ban nhap so nguyen n: \"))\n",
    "# Xử lý\n",
    "\"\"\" CÁC BẠN LÀM BÀI Ở ĐÂY \"\"\"\n",
    "if n == 1:\n",
    "lant = True\n",
    "else:\n",
    "i = 2\n",
    "lant = True\n",
    "while i*i <= n:\n",
    "if n % i == 0:\n",
    "lant = False\n",
    "print(i)\n",
    "break\n",
    "i = i + 1\n",
    "# while\n",
    "# if\n",
    "# Xuất dữ liệu\n",
    "if lant == True:\n",
    "print(f'{n} la so nguyen to.')\n",
    "else:\n",
    "print(f'{n} khong la so nguyen to.')"
   ]
  },
  {
   "cell_type": "code",
   "execution_count": null,
   "id": "da67ab18-9d1e-4244-97ca-458c8d22d96a",
   "metadata": {},
   "outputs": [],
   "source": [
    "def NhapDuLieu():\n",
    "\"\"\"\n",
    "Input:\n",
    "Ban phim = 1 5 6\n",
    "Output:\n",
    "(a, b, c) --> (1, 5, 6)\n",
    "\"\"\"\n",
    "\"\"\" CÁC BẠN LÀM BÀI Ở ĐÂY \"\"\"\n",
    "is_valid = False\n",
    "while is_valid == False:\n",
    "try:\n",
    "line = input(\"Moi ban nhap he so a, b, c: \")\n",
    "a_snum = line.split(\" \")\n",
    "a, b, c = int(a_snum[0]), int(a_snum[1]), int(a_snum[2])\n",
    "is_valid = True\n",
    "except:\n",
    "is_valid = False\n",
    "# while\n",
    "return a, b, c\n",
    "# NhapDuLieu\n",
    "# Kiểm tra hàm\n",
    "a, b, c = NhapDuLieu()\n",
    "# Moi ban nhap he so a, b, c: 1 5 6"
   ]
  },
  {
   "cell_type": "code",
   "execution_count": null,
   "id": "07f4e267-def1-4704-b246-2113fb605ee5",
   "metadata": {},
   "outputs": [],
   "source": [
    "def GiaiPhuongTrinhBac2(a, b, c):\n",
    "\"\"\"\n",
    "Input: a, b, c\n",
    "Output:\n",
    "+ flag = -1 (VSN), 0 (VN), k (k nghiem)\n",
    "+ () --> flag = -1, 0\n",
    "+ (x) --> flag = 1\n",
    "+ (x1, x2) --> flag = 2\n",
    "\"\"\"\n",
    "import math\n",
    "flag = None\n",
    "x = ()\n",
    "\"\"\" CÁC BẠN LÀM BÀI Ở ĐÂY \"\"\"\n",
    "if a == 0: # bx + c = 0\n",
    "if b == 0: # c = 0\n",
    "if c == 0: # 0 = 0: VSN\n",
    "flag = -1\n",
    "else: # c<>0 = 0: VN\n",
    "flag = 0\n",
    "# if\n",
    "else: # b<>0: bx + c = 0 ==> x = -c / b\n",
    "flag = 1\n",
    "x1 = -c / b\n",
    "x = x + (x1,) # dua vao tuple x\n",
    "# if\n",
    "else: # ax^2 + bx + c = 0\n",
    "delta = b * b - 4 * a * c\n",
    "if delta < 0:\n",
    "flag = 0\n",
    "elif delta == 0: # x = -b / (2a)\n",
    "flag = 1\n",
    "x = -b / (2 * a)\n",
    "else:\n",
    "flag = 2\n",
    "x1 = (-b - math.sqrt(delta)) / (2 * a)\n",
    "x2 = (-b + math.sqrt(delta)) / (2 * a)\n",
    "x = x + (x1, x2,)\n",
    "# if\n",
    "# if\n",
    "return flag, x\n",
    "# GiaiPhuongTrinhBac2\n",
    "print(\"a = 0\")\n",
    "flag, x = GiaiPhuongTrinhBac2(0, 0, 0)\n",
    "print(f'So nghiem: {flag}, nghiem = {x}')\n",
    "flag, x = GiaiPhuongTrinhBac2(0, 0, 5)\n",
    "print(f'So nghiem: {flag}, nghiem = {x}')\n",
    "flag, x = GiaiPhuongTrinhBac2(0, 5, 6)\n",
    "print(f'So nghiem: {flag}, nghiem = {x}')\n",
    "print(\"a <> 0\")\n",
    "flag, x = GiaiPhuongTrinhBac2(5, 1, 2)\n",
    "print(f'So nghiem: {flag}, nghiem = {x}')\n",
    "flag, x = GiaiPhuongTrinhBac2(1, 2, 1)\n",
    "print(f'So nghiem: {flag}, nghiem = {x}')\n",
    "flag, x = GiaiPhuongTrinhBac2(1, 5, 6)\n",
    "print(f'So nghiem: {flag}, nghiem = {x}')\n",
    "\"\"\"\n",
    "a = 0\n",
    "So nghiem: -1, nghiem = ()\n",
    "So nghiem: 0, nghiem = ()\n",
    "So nghiem: 1, nghiem = (-1.2,)\n",
    "a <> 0\n",
    "So nghiem: 0, nghiem = ()\n",
    "So nghiem: 1, nghiem = -1.0\n",
    "So nghiem: 2, nghiem = (-3.0, -2.0)\n",
    "\"\"\""
   ]
  },
  {
   "cell_type": "code",
   "execution_count": null,
   "id": "d76b59fd-f8a6-49a2-a7ed-7acfca413aaa",
   "metadata": {},
   "outputs": [],
   "source": [
    "# Kết nối bài\n",
    "a, b, c = NhapDuLieu()\n",
    "# Gọi hàm giải\n",
    "flag, x = GiaiPhuongTrinhBac2(1, 5, 6)\n",
    "# Xuất dữ liệu\n",
    "s = f'Phuong trinh bac 2 {a}x^2 + {b}x + {c} = 0'\n",
    "if flag == -1:\n",
    "print(f'{s} co vo so nghiem!')\n",
    "elif flag == 0:\n",
    "print(f'{s} vo nghiem!')\n",
    "elif flag == 1:\n",
    "print(f'{s} co 1 nghiem, x = {x[0]}!')\n",
    "elif flag == 2:\n",
    "print(f'{s} co 2 nghiem, x1 = {x[0]}, x2 = {x[1]}!')\n",
    "# if\n",
    "# Moi ban nhap he so a, b, c: 1 5 6\n",
    "# Phuong trinh bac 2 1x^2 + 5x + 6 = 0 co 2 nghiem, x1 = -3.0, x2 = -2.0!"
   ]
  },
  {
   "cell_type": "code",
   "execution_count": null,
   "id": "73f9d1f9-9c98-422f-97be-7e6c5a5bb16c",
   "metadata": {},
   "outputs": [],
   "source": [
    "def NhapMang():\n",
    "\"\"\"\n",
    "Input:\n",
    "Ban phim = 1 4 1 2 3 4 1 2 3 3 1 2 3 4 10 2\n",
    "Output:\n",
    "a = [1, 4, 1, 2, 3, 4, 1, 2, 3, 3, 1, 2, 3, 4, 10, 2]\n",
    "\"\"\"\n",
    "\n",
    "\"\"\" CÁC BẠN LÀM BÀI Ở ĐÂY \"\"\"\n",
    "line = input(\"Moi ban nhap mang (cach nhau khoang trang): \")\n",
    "a = []\n",
    "a_snum = line.split(\" \")\n",
    "for ai in a_snum:\n",
    "a.append(ai)\n",
    "return a\n",
    "# NhapMang\n",
    "a = NhapMang() # 1 4 1 2 3 4 1 2 3 3 1 2 3 4 10 2\n",
    "print(a)\n",
    "# Moi ban nhap mang (cach nhau khoang trang): 1 4 1 2 3 4 1 2 3 3 1 2 3 4 10 2\n",
    "# ['1', '4', '1', '2', '3', '4', '1', '2', '3', '3', '1', '2', '3', '4', '10', '2']"
   ]
  },
  {
   "cell_type": "code",
   "execution_count": null,
   "id": "ee52552c-7d86-4662-975d-5d546ddd9f6f",
   "metadata": {},
   "outputs": [],
   "source": [
    "def XuatMang(a):\n",
    "\"\"\"\n",
    "Input:\n",
    "a = [1, 4, 1, 2, 3, 4, 1, 2, 3, 3, 1, 2, 3, 4, 10, 2]\n",
    "Output:\n",
    "In ra man hinh:\n",
    "Mang co 16 phan tu: 1 4 1 2 3 4 1 2 3 3 1 2 3 4 10 2\n",
    "\"\"\"\n",
    "\"\"\" CÁC BẠN LÀM BÀI Ở ĐÂY \"\"\"\n",
    "print(f'Mang co {len(a)} phan tu: ', end = '')\n",
    "for i in range(len(a)):\n",
    "print(a[i], end = ' ')\n",
    "print()\n",
    "# XuatMang\n",
    "a = [1, 4, 1, 2, 3, 4, 1, 2, 3, 3, 1, 2, 3, 4, 10, 2]\n",
    "XuatMang(a)\n",
    "# Mang co 16 phan tu: 1 4 1 2 3 4 1 2 3 3 1 2 3 4 10 2"
   ]
  },
  {
   "cell_type": "code",
   "execution_count": null,
   "id": "cee475b6-00b6-4cfb-af49-d176d97a646d",
   "metadata": {},
   "outputs": [],
   "source": [
    "import random\n",
    "def SinhNgauNhien(n, vmin = -10, vmax = 10):\n",
    "\"\"\"\n",
    "Input:\n",
    "n = 30, vmin = -10, vmax = 10\n",
    "Output:\n",
    "a = [-1, -4, -8, 6, 4, -5, -1, -4, -9, -5, -10, 0, -6, 2, 1, -9, -9, 10, -8, -9, -7,\n",
    "9, 2, -4, -1, -6, 5, -6, 9, -8]\n",
    "\"\"\"\n",
    "a = []\n",
    "\"\"\" CÁC BẠN LÀM BÀI Ở ĐÂY \"\"\"\n",
    "for i in range(n):\n",
    "ai = random.randint(vmin, vmax)\n",
    "a.append(ai)\n",
    "# for\n",
    "return a\n",
    "# SinhNgauNhien\n",
    "b = SinhNgauNhien(30, -10, 10)\n",
    "print(b)\n",
    "b = SinhNgauNhien(30, vmin = 0)\n",
    "print(b)\n",
    "b = SinhNgauNhien(30, vmax = 2)\n",
    "print(b)"
   ]
  },
  {
   "cell_type": "code",
   "execution_count": null,
   "id": "dbddaca2-e336-4276-a716-fe97a6693b19",
   "metadata": {},
   "outputs": [],
   "source": [
    "def DemTongChanLe(a):\n",
    "\"\"\"\n",
    "Input: a[] = [1, 4, 2, 0, -1, -7, 3, -6, 4, 9, -5, 7, 7, -7, -10, 1, -10, 9, -4, -6, 10, -\n",
    "2, -10, -8, -3, 2, -7, -10, 6, 0]\n",
    "Output: tong, sochan, sole\n",
    "\"\"\"\n",
    "tong = 0\n",
    "sochan = 0\n",
    "sole = 0\n",
    "\"\"\" CÁC BẠN LÀM BÀI Ở ĐÂY \"\"\"\n",
    "for ai in a:\n",
    "tong = tong + ai\n",
    "if ai % 2 == 0:\n",
    "sochan = sochan + 1\n",
    "else:\n",
    "sole = sole + 1\n",
    "# for\n",
    "return tong, sochan, sole\n",
    "# DemTongChanLe\n",
    "a = [1, 4, 2, 0, -1, -7, 3, -6, 4, 9, -5, 7, 7, -7, -10, 1, -10, 9, -4, -6, 10, -2, -10, -8, -\n",
    "3, 2, -7, -10, 6, 0]\n",
    "print(DemTongChanLe(a))\n",
    "a = [9, 6, 5, 0, 8, 8, 1, 10, 0, 0, 1, 1, 2, 7, 1, 10, 9, 1, 10, 8, 2, 8, 4, 5, 4, 5, 5, 3, 6,\n",
    "2]\n",
    "print(DemTongChanLe(a))\n",
    "# (-31, 17, 13)\n",
    "# (141, 17, 13)"
   ]
  },
  {
   "cell_type": "code",
   "execution_count": null,
   "id": "68d69262-1dcd-46cb-bbbb-24dec7e2dcd9",
   "metadata": {},
   "outputs": [],
   "source": [
    "def DayChanLe(a): # Gia tri tra ve\n",
    "\"\"\"\n",
    "Input:\n",
    "a = [1, 4, 2, 0, -1, -7, 3, -6, 4, 9, -5, 7, 7, -7, -10, 1, -10, 9, -4, -6, 10, -2, -\n",
    "10, -8, -3, 2, -7, -10, 6, 0]\n",
    "Output: (achan, ale)\n",
    "achan = [4, 2, 0, -6, 4, -10, -10, -4, -6, 10, -2, -10, -8, 2, -10, 6, 0]\n",
    "ale = [1, -1, -7, 3, 9, -5, 7, 7, -7, 1, 9, -3, -7]\n",
    "\"\"\"\n",
    "achan = []\n",
    "ale = []\n",
    "\"\"\" CÁC BẠN LÀM BÀI Ở ĐÂY \"\"\"\n",
    "for ai in a:\n",
    "if ai % 2 == 0:\n",
    "achan.append(ai)\n",
    "else:\n",
    "ale.append(ai)\n",
    "# for\n",
    "return achan, ale\n",
    "# DayChanLe\n",
    "a = [1, 4, 2, 0, -1, -7, 3, -6, 4, 9, -5, 7, 7, -7, -10, 1, -10, 9, -4, -6, 10, -2, -10, -8, -\n",
    "3, 2, -7, -10, 6, 0]\n",
    "achan, ale = DayChanLe(a)\n",
    "print(f'DayChanLe:\\nChan = {achan}\\nLe = {ale}\\n')\n",
    "# DayChanLe:\n",
    "# Chan = [4, 2, 0, -6, 4, -10, -10, -4, -6, 10, -2, -10, -8, 2, -10, 6, 0]\n",
    "# Le = [1, -1, -7, 3, 9, -5, 7, 7, -7, 1, 9, -3, -7]"
   ]
  },
  {
   "cell_type": "code",
   "execution_count": null,
   "id": "c5026246-86e3-441f-9962-51bba1e88112",
   "metadata": {},
   "outputs": [],
   "source": [
    "def XuLyKhongTrung(a):\n",
    "\"\"\"\n",
    "Input:\n",
    "a = ['A', 'G', 'C', 'A', 'C', 'F', 'F', 'T', 'H']\n",
    "Output:\n",
    "s = ['A', 'C', 'F', 'G', 'H', 'T']\n",
    "\"\"\"\n",
    "s = set([])\n",
    "\"\"\" CÁC BẠN LÀM BÀI Ở ĐÂY \"\"\"\n",
    "for ai in a:\n",
    "s.add(ai)\n",
    "return sorted(s)\n",
    "# XuLyKhongTrung\n",
    "a = ['A', 'G', 'C', 'A', 'C', 'F', 'F', 'T', 'H']\n",
    "b = XuLyKhongTrung(a)\n",
    "print(b)\n",
    "# ['A', 'C', 'F', 'G', 'H', 'T']"
   ]
  },
  {
   "cell_type": "code",
   "execution_count": null,
   "id": "fcfac51f-7e13-4f10-8953-52cbe237ca44",
   "metadata": {},
   "outputs": [],
   "source": [
    "def DemSoLanXuatHien(a):\n",
    "\"\"\"\n",
    "Input:\n",
    "a = ['A', 'G', 'C', 'A', 'C', 'F', 'F', 'T', 'H']\n",
    "Output:\n",
    "dem = {'A': 2, 'G': 1, 'C': 2, 'F': 2, 'T': 1, 'H': 1}\n",
    "\"\"\"\n",
    "dem = {} # (k, v): k (ky tu) v (so lan xuat hien)\n",
    "for ai in a:\n",
    "if dem.get(ai) is None:\n",
    "dem[ai] = 1\n",
    "else:\n",
    "dem[ai] = dem[ai] + 1\n",
    "# for\n",
    "return dem\n",
    "# DemSoLanXuatHien\n",
    "a = ['A', 'G', 'C', 'A', 'C', 'F', 'F', 'T', 'H']\n",
    "b = DemSoLanXuatHien(a)\n",
    "print(b)\n",
    "# {'A': 2, 'G': 1, 'C': 2, 'F': 2, 'T': 1, 'H': 1}"
   ]
  }
 ],
 "metadata": {
  "kernelspec": {
   "display_name": "Python 3 (ipykernel)",
   "language": "python",
   "name": "python3"
  },
  "language_info": {
   "codemirror_mode": {
    "name": "ipython",
    "version": 3
   },
   "file_extension": ".py",
   "mimetype": "text/x-python",
   "name": "python",
   "nbconvert_exporter": "python",
   "pygments_lexer": "ipython3",
   "version": "3.12.5"
  }
 },
 "nbformat": 4,
 "nbformat_minor": 5
}
