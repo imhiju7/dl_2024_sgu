{
 "cells": [
  {
   "cell_type": "markdown",
   "id": "429d0114-a31e-40f9-95b4-6e84ba3f6d03",
   "metadata": {},
   "source": [
    "# CƠ BẢN VỀ NGÔN NGỮ LẬP TRÌNH PYTHON"
   ]
  },
  {
   "cell_type": "markdown",
   "id": "7be5ba34-6f31-44a7-8043-94913bcc631e",
   "metadata": {},
   "source": [
    "## 2.1 Nhập/xuất, biểu thức tính toán"
   ]
  },
  {
   "cell_type": "markdown",
   "id": "0094b46e-29d5-4ffd-b4a9-5e9589da915c",
   "metadata": {},
   "source": [
    "### Bài 1. Tính giá trị hàm số\n",
    "Hãy viết chương trình nhập vào số thực x và tính giá trị biểu thức:\n",
    "$f(x) = x + \\frac{x^5}{5!} + \\frac{\\sqrt{|x|}}{x^{3/2}}$"
   ]
  },
  {
   "cell_type": "code",
   "execution_count": 3,
   "id": "f4b0d3ca-c310-4174-92fc-bf0a77e70407",
   "metadata": {},
   "outputs": [
    {
     "name": "stdin",
     "output_type": "stream",
     "text": [
      "Moi ban nhap vao gia tri cua bien so x:  3\n"
     ]
    },
    {
     "name": "stdout",
     "output_type": "stream",
     "text": [
      "Gia tri cua ham so f(3.0) =  5.36.\n"
     ]
    }
   ],
   "source": [
    "import math\n",
    "# Nhập dữ liệu\n",
    "x = float(input('Moi ban nhap vao gia tri cua bien so x: '))\n",
    "# Xử lý\n",
    "\"\"\" CÁC BẠN LÀM BÀI Ở ĐÂY \"\"\"\n",
    "f_x = x + (x ** 5) / (1 * 2 * 3 * 4 * 5) + math.sqrt(math.fabs(x)) / math.pow(x, 3.0 / 2)\n",
    "# Xuất dữ liệu\n",
    "print(f'Gia tri cua ham so f({x}) = {f_x: .2f}.')"
   ]
  },
  {
   "cell_type": "markdown",
   "id": "2a28d91a-93ee-453b-ad7b-7a202aca33c7",
   "metadata": {},
   "source": [
    "### Bài 2. Đổi sang giờ phút giây\n",
    "Một thiết bị hoạt động được t giây. Hãy viết chương trình chuyển số giây đó dưới dạng số giờ, số phút và số giây."
   ]
  },
  {
   "cell_type": "code",
   "execution_count": 2,
   "id": "c3cdb29a-8bc7-486c-9274-ec863ed3ded1",
   "metadata": {},
   "outputs": [
    {
     "name": "stdin",
     "output_type": "stream",
     "text": [
      "Nhap vao tong so giay:  250\n"
     ]
    },
    {
     "name": "stdout",
     "output_type": "stream",
     "text": [
      "250 giay co dang 0:4:10\n"
     ]
    }
   ],
   "source": [
    "## Nhập dữ liệu\n",
    "t = int(input('Nhap vao tong so giay: '))\n",
    "# Xử lý\n",
    "\"\"\" CÁC BẠN LÀM BÀI Ở ĐÂY \"\"\"\n",
    "hh = t // (60*60)\n",
    "mm = (t % (60 * 60)) // 60\n",
    "ss = t % 60\n",
    "# Xuất dữ liệu\n",
    "print(f'{t} giay co dang {hh}:{mm}:{ss}')"
   ]
  },
  {
   "cell_type": "markdown",
   "id": "7c46841a-86f7-4d39-b9ee-9c2ccfda32f2",
   "metadata": {},
   "source": [
    "## 2.2 Cấu trúc lựa chọn"
   ]
  },
  {
   "cell_type": "markdown",
   "id": "98761812-9aad-440c-a31b-fca02c532520",
   "metadata": {},
   "source": [
    "### Bài 3. Giải phuơng trình bậc 1\n",
    "Nhập 2 số thực a, b. Tìm nghiệm của phương trình bậc 1 ax + b = 0."
   ]
  },
  {
   "cell_type": "code",
   "execution_count": 7,
   "id": "ca08bc3a-3fe6-4d1d-ae03-2844abcd3b6c",
   "metadata": {},
   "outputs": [
    {
     "name": "stdin",
     "output_type": "stream",
     "text": [
      "Mời bạn nhập hệ số a:  3\n",
      "Mời bạn nhập hệ số b:  -4\n"
     ]
    },
    {
     "name": "stdout",
     "output_type": "stream",
     "text": [
      "Phương trình 3x + -4 = 0 có 1 nghiệm x = 1.33.\n"
     ]
    }
   ],
   "source": [
    "# Nhập hệ số a và b\n",
    "a = int(input('Mời bạn nhập hệ số a: '))\n",
    "b = int(input('Mời bạn nhập hệ số b: '))\n",
    "\n",
    "# Xử lý\n",
    "flag, x = None, None\n",
    "\n",
    "if a == 0:\n",
    "    if b == 0:\n",
    "        # 0 = 0 --> Vô số nghiệm\n",
    "        flag = -1\n",
    "    else:\n",
    "        # b khác 0 --> Vô nghiệm\n",
    "        flag = 0\n",
    "else:\n",
    "    # a khác 0, tính nghiệm x = -b / a\n",
    "    flag = 1\n",
    "    x = -b / a\n",
    "\n",
    "# Xuất dữ liệu\n",
    "s = f'Phương trình {a}x + {b} = 0'\n",
    "\n",
    "if flag == -1:\n",
    "    print(f'{s} vô số nghiệm.')\n",
    "elif flag == 0:\n",
    "    print(f'{s} vô nghiệm.')\n",
    "else:\n",
    "    print(f'{s} có 1 nghiệm x = {x:.2f}.')\n"
   ]
  },
  {
   "cell_type": "markdown",
   "id": "8f6cffaa-218e-4c62-8839-44f33a06e96b",
   "metadata": {},
   "source": [
    "### Bài 4. Chuyển ký số sang số\n",
    "Nhập một chuỗi s là chuỗi biểu diễn ký tự số trong tiếng Anh gồm {zero, one, two, three, four, five, six,\n",
    "seven, eight, nine}. Hãy kiểm tra chuỗi nhập có hợp lệ không? Nếu hợp lệ thì in ra ký số của chuỗi đó và\n",
    "chuỗi ký số bên tiếng việt tương ứng."
   ]
  },
  {
   "cell_type": "code",
   "execution_count": 9,
   "id": "7c7536f4-841f-4f17-b3b7-29a526343265",
   "metadata": {},
   "outputs": [
    {
     "name": "stdin",
     "output_type": "stream",
     "text": [
      "Mời bạn nhập chuỗi ký số s:  five\n"
     ]
    },
    {
     "name": "stdout",
     "output_type": "stream",
     "text": [
      "Chuỗi vừa nhập hợp lệ!\n",
      "\"five\" biểu diễn cho số \"5\" và ứng với tiếng Việt \"năm\"\n"
     ]
    }
   ],
   "source": [
    "s = input(\"Mời bạn nhập chuỗi ký số s: \")\n",
    "en = [\"zero\", \"one\", \"two\", \"three\", \"four\", \"five\", \"six\", \"seven\", \"eight\", \"nine\"]\n",
    "vi = [\"không\", \"một\", \"hai\", \"ba\", \"bốn\", \"năm\", \"sáu\", \"bảy\", \"tám\", \"chín\"]\n",
    "num = [0, 1, 2, 3, 4, 5, 6, 7, 8, 9]\n",
    "\n",
    "# Kiểm tra nếu chuỗi s không nằm trong danh sách 'en'\n",
    "if s.lower() not in en:\n",
    "    print(\"Chuỗi vừa nhập không hợp lệ!\")\n",
    "else:\n",
    "    print(\"Chuỗi vừa nhập hợp lệ!\")\n",
    "    # Tìm chỉ số của chuỗi trong danh sách 'en'\n",
    "    p = en.index(s.lower())\n",
    "    print(f'\"{s}\" biểu diễn cho số \"{num[p]}\" và ứng với tiếng Việt \"{vi[p]}\"')"
   ]
  },
  {
   "cell_type": "markdown",
   "id": "f32386e2-576b-4626-8b9b-37f7547ce164",
   "metadata": {},
   "source": [
    "## 2.3 Cấu trúc lặp"
   ]
  },
  {
   "cell_type": "markdown",
   "id": "01bac5be-6dac-426e-abb3-78a73f6b6809",
   "metadata": {},
   "source": [
    "### Bài 5. Tính tổng các số chẵn\n",
    "Nhập một số nguyên n. Hãy tính tổng các số chẵn từ 1 đến n."
   ]
  },
  {
   "cell_type": "code",
   "execution_count": 10,
   "id": "b651ffcf-ba44-4232-a7ff-65e24d83a0f0",
   "metadata": {},
   "outputs": [
    {
     "name": "stdin",
     "output_type": "stream",
     "text": [
      "Mời bạn nhập số nguyên n:  8\n"
     ]
    },
    {
     "name": "stdout",
     "output_type": "stream",
     "text": [
      "Tổng các số chẵn từ 1 đến 8 là 20.\n"
     ]
    }
   ],
   "source": [
    "n = int(input(\"Mời bạn nhập số nguyên n: \"))\n",
    "\n",
    "# Sinh ra các số từ 1 đến n\n",
    "a_n = range(1, n + 1)\n",
    "\n",
    "# Khởi tạo tổng\n",
    "s = 0\n",
    "\n",
    "# Tính tổng các số chẵn từ 1 đến n\n",
    "for i in a_n:\n",
    "    if i % 2 == 0:\n",
    "        s += i\n",
    "\n",
    "# Xuất kết quả\n",
    "print(f'Tổng các số chẵn từ 1 đến {n} là {s}.')"
   ]
  },
  {
   "cell_type": "markdown",
   "id": "7f929fca-ae3e-4505-97d5-17c5ba209715",
   "metadata": {},
   "source": [
    "### Bài 6. Kiểm tra số nguyên tố\n",
    "Nhập vào một số nguyên dương n. Hãy kiểm tra xem n có phải là nguyên tố không?"
   ]
  },
  {
   "cell_type": "code",
   "execution_count": 11,
   "id": "06006b45-8625-4e71-993a-8edc6285040c",
   "metadata": {},
   "outputs": [
    {
     "name": "stdin",
     "output_type": "stream",
     "text": [
      "Mời bạn nhập số nguyên n:  7\n"
     ]
    },
    {
     "name": "stdout",
     "output_type": "stream",
     "text": [
      "7 là số nguyên tố.\n"
     ]
    }
   ],
   "source": [
    "# Nhập dữ liệu\n",
    "n = int(input(\"Mời bạn nhập số nguyên n: \"))\n",
    "\n",
    "# Xử lý\n",
    "if n < 2:  # Các số nhỏ hơn 2 không phải là số nguyên tố\n",
    "    lant = False\n",
    "else:\n",
    "    i = 2\n",
    "    lant = True\n",
    "    while i * i <= n:\n",
    "        if n % i == 0:\n",
    "            lant = False\n",
    "            break\n",
    "        i = i + 1\n",
    "\n",
    "# Xuất dữ liệu\n",
    "if lant == True:\n",
    "    print(f'{n} là số nguyên tố.')\n",
    "else:\n",
    "    print(f'{n} không là số nguyên tố.')"
   ]
  },
  {
   "cell_type": "markdown",
   "id": "1b31d05f-0bc7-460e-ab21-a4d3f288d1e3",
   "metadata": {},
   "source": [
    "## 2.4 Xử lý ngoại lệ và hàm số"
   ]
  },
  {
   "cell_type": "markdown",
   "id": "eb0e033d-2b5b-47df-8ab3-31a77c86dfcd",
   "metadata": {},
   "source": [
    "### Bài 7. Giải phương trình bậc 2\n",
    "Nhập 3 số thực a, b, c (có kiểm tra dữ liệu nhập số thực). Hãy xây dựng hàm giải phương trình bậc 2\n",
    "$ax^2+bx+c=0$ và in kết quả giải ra màn hình."
   ]
  },
  {
   "cell_type": "code",
   "execution_count": 12,
   "id": "da67ab18-9d1e-4244-97ca-458c8d22d96a",
   "metadata": {},
   "outputs": [
    {
     "name": "stdin",
     "output_type": "stream",
     "text": [
      "Mời bạn nhập hệ số a, b, c (cách nhau bằng dấu cách):  1 -2 1\n"
     ]
    },
    {
     "name": "stdout",
     "output_type": "stream",
     "text": [
      "Bạn đã nhập: a = 1, b = -2, c = 1\n"
     ]
    }
   ],
   "source": [
    "def NhapDuLieu():\n",
    "    \"\"\"\n",
    "    Input:\n",
    "    Ban phim = 1 5 6\n",
    "    Output:\n",
    "    (a, b, c) --> (1, 5, 6)\n",
    "    \"\"\"\n",
    "    is_valid = False\n",
    "    while not is_valid:\n",
    "        try:\n",
    "            line = input(\"Mời bạn nhập hệ số a, b, c (cách nhau bằng dấu cách): \")\n",
    "            # Tách các giá trị theo dấu cách\n",
    "            a_snum = line.split(\" \")\n",
    "            \n",
    "            # Kiểm tra xem có đủ 3 phần tử hay không\n",
    "            if len(a_snum) != 3:\n",
    "                raise ValueError(\"Phải nhập đủ 3 giá trị.\")\n",
    "            \n",
    "            # Chuyển đổi thành số nguyên\n",
    "            a, b, c = int(a_snum[0]), int(a_snum[1]), int(a_snum[2])\n",
    "            is_valid = True\n",
    "        except ValueError as e:\n",
    "            print(f\"Lỗi: {e}. Vui lòng nhập lại.\")\n",
    "        except Exception:\n",
    "            print(\"Dữ liệu không hợp lệ. Vui lòng nhập lại.\")\n",
    "    \n",
    "    return a, b, c\n",
    "\n",
    "# Kiểm tra hàm\n",
    "a, b, c = NhapDuLieu()\n",
    "print(f'Bạn đã nhập: a = {a}, b = {b}, c = {c}')"
   ]
  },
  {
   "cell_type": "code",
   "execution_count": 13,
   "id": "07f4e267-def1-4704-b246-2113fb605ee5",
   "metadata": {},
   "outputs": [
    {
     "name": "stdout",
     "output_type": "stream",
     "text": [
      "a = 0\n",
      "Số nghiệm: -1, nghiệm = ()\n",
      "Số nghiệm: 0, nghiệm = ()\n",
      "Số nghiệm: 1, nghiệm = (-1.2,)\n",
      "a <> 0\n",
      "Số nghiệm: 0, nghiệm = ()\n",
      "Số nghiệm: 1, nghiệm = (-1.0,)\n",
      "Số nghiệm: 2, nghiệm = (-3.0, -2.0)\n"
     ]
    }
   ],
   "source": [
    "import math\n",
    "\n",
    "def GiaiPhuongTrinhBac2(a, b, c):\n",
    "    \"\"\"\n",
    "    Giải phương trình bậc 2: ax^2 + bx + c = 0\n",
    "    Input: a, b, c\n",
    "    Output:\n",
    "    + flag = -1 (VSN), 0 (VN), k (k nghiệm)\n",
    "    + () --> flag = -1, 0\n",
    "    + (x) --> flag = 1\n",
    "    + (x1, x2) --> flag = 2\n",
    "    \"\"\"\n",
    "    flag = None\n",
    "    x = ()\n",
    "    \n",
    "    if a == 0:  # bx + c = 0 (phương trình bậc nhất)\n",
    "        if b == 0:\n",
    "            if c == 0:  # 0 = 0 --> Vô số nghiệm (VSN)\n",
    "                flag = -1\n",
    "            else:  # c ≠ 0 --> Vô nghiệm (VN)\n",
    "                flag = 0\n",
    "        else:  # b ≠ 0 --> Giải bx + c = 0 --> x = -c / b\n",
    "            flag = 1\n",
    "            x1 = -c / b\n",
    "            x = (x1,)\n",
    "    else:  # Giải phương trình bậc 2: ax^2 + bx + c = 0\n",
    "        delta = b * b - 4 * a * c\n",
    "        if delta < 0:  # Vô nghiệm\n",
    "            flag = 0\n",
    "        elif delta == 0:  # Nghiệm kép: x = -b / (2a)\n",
    "            flag = 1\n",
    "            x1 = -b / (2 * a)\n",
    "            x = (x1,)\n",
    "        else:  # Có 2 nghiệm phân biệt\n",
    "            flag = 2\n",
    "            x1 = (-b - math.sqrt(delta)) / (2 * a)\n",
    "            x2 = (-b + math.sqrt(delta)) / (2 * a)\n",
    "            x = (x1, x2)\n",
    "\n",
    "    return flag, x\n",
    "\n",
    "# Kiểm tra hàm\n",
    "print(\"a = 0\")\n",
    "flag, x = GiaiPhuongTrinhBac2(0, 0, 0)\n",
    "print(f'Số nghiệm: {flag}, nghiệm = {x}')\n",
    "flag, x = GiaiPhuongTrinhBac2(0, 0, 5)\n",
    "print(f'Số nghiệm: {flag}, nghiệm = {x}')\n",
    "flag, x = GiaiPhuongTrinhBac2(0, 5, 6)\n",
    "print(f'Số nghiệm: {flag}, nghiệm = {x}')\n",
    "print(\"a <> 0\")\n",
    "flag, x = GiaiPhuongTrinhBac2(5, 1, 2)\n",
    "print(f'Số nghiệm: {flag}, nghiệm = {x}')\n",
    "flag, x = GiaiPhuongTrinhBac2(1, 2, 1)\n",
    "print(f'Số nghiệm: {flag}, nghiệm = {x}')\n",
    "flag, x = GiaiPhuongTrinhBac2(1, 5, 6)\n",
    "print(f'Số nghiệm: {flag}, nghiệm = {x}')\n"
   ]
  },
  {
   "cell_type": "code",
   "execution_count": 14,
   "id": "d76b59fd-f8a6-49a2-a7ed-7acfca413aaa",
   "metadata": {},
   "outputs": [
    {
     "name": "stdin",
     "output_type": "stream",
     "text": [
      "Mời bạn nhập hệ số a, b, c (cách nhau bằng dấu cách):  1 -2 1\n"
     ]
    },
    {
     "name": "stdout",
     "output_type": "stream",
     "text": [
      "Phương trình bậc 2 1x^2 + -2x + 1 = 0 có 1 nghiệm, x = 1.0!\n"
     ]
    }
   ],
   "source": [
    "# Kết nối bài\n",
    "a, b, c = NhapDuLieu()  # Nhập dữ liệu từ người dùng\n",
    "\n",
    "# Gọi hàm giải phương trình bậc 2\n",
    "flag, x = GiaiPhuongTrinhBac2(a, b, c)\n",
    "\n",
    "# Xuất dữ liệu\n",
    "s = f'Phương trình bậc 2 {a}x^2 + {b}x + {c} = 0'\n",
    "if flag == -1:\n",
    "    print(f'{s} có vô số nghiệm!')\n",
    "elif flag == 0:\n",
    "    print(f'{s} vô nghiệm!')\n",
    "elif flag == 1:\n",
    "    print(f'{s} có 1 nghiệm, x = {x[0]}!')\n",
    "elif flag == 2:\n",
    "    print(f'{s} có 2 nghiệm, x1 = {x[0]}, x2 = {x[1]}!')"
   ]
  },
  {
   "cell_type": "markdown",
   "id": "4fdb871e-808b-4665-9c4f-4ffd0774aa97",
   "metadata": {},
   "source": [
    "## 2.5 Dữ liệu nâng cao (List, Tuple, Set, Dictionary)"
   ]
  },
  {
   "cell_type": "markdown",
   "id": "52a51378-816b-4956-92b6-24f74035483b",
   "metadata": {},
   "source": [
    "### Bài 8. Các thao tác xử lý mảng số\n",
    "Viết chương trình xây dựng các hàm sau cho List và kiểm tra tính đúng đắn của các hàm số:\n",
    "+ Nhập một mảng số từ bàn phím cách nhau bởi khoảng trắng. Xuất mảng ra màn hình.\n",
    "+ Sinh một mảng số ngẫu nhiên có n phần tử trong khoảng a, b.\n",
    "+ Tính tổng của mảng số, đếm các phần tử chẵn, lẻ trong mảng.\n",
    "+ Cho một mảng số, hãy trả về dãy chẳn, dãy lẻ."
   ]
  },
  {
   "cell_type": "markdown",
   "id": "a3339cb8-b6aa-4db3-89d9-81066151d261",
   "metadata": {},
   "source": [
    "- Nhập mảng"
   ]
  },
  {
   "cell_type": "code",
   "execution_count": 15,
   "id": "73f9d1f9-9c98-422f-97be-7e6c5a5bb16c",
   "metadata": {},
   "outputs": [
    {
     "name": "stdin",
     "output_type": "stream",
     "text": [
      "Mời bạn nhập mảng (cách nhau bằng khoảng trắng):  1 4 1 2 3 4 1 2 3 3 1 2 3 4 10 2\n"
     ]
    },
    {
     "name": "stdout",
     "output_type": "stream",
     "text": [
      "[1, 4, 1, 2, 3, 4, 1, 2, 3, 3, 1, 2, 3, 4, 10, 2]\n"
     ]
    }
   ],
   "source": [
    "def NhapMang():\n",
    "    \"\"\"\n",
    "    Input:\n",
    "    Bàn phím = 1 4 1 2 3 4 1 2 3 3 1 2 3 4 10 2\n",
    "    Output:\n",
    "    a = [1, 4, 1, 2, 3, 4, 1, 2, 3, 3, 1, 2, 3, 4, 10, 2]\n",
    "    \"\"\"\n",
    "    line = input(\"Mời bạn nhập mảng (cách nhau bằng khoảng trắng): \")\n",
    "    a = []\n",
    "    a_snum = line.split(\" \")\n",
    "    \n",
    "    # Chuyển các phần tử thành số nguyên\n",
    "    for ai in a_snum:\n",
    "        a.append(int(ai))\n",
    "    \n",
    "    return a\n",
    "\n",
    "# Gọi hàm NhapMang\n",
    "a = NhapMang()\n",
    "print(a)"
   ]
  },
  {
   "cell_type": "markdown",
   "id": "8201ff14-1a3e-423b-8a29-da72bb536544",
   "metadata": {},
   "source": [
    "- Xuất Mảng"
   ]
  },
  {
   "cell_type": "code",
   "execution_count": 16,
   "id": "ee52552c-7d86-4662-975d-5d546ddd9f6f",
   "metadata": {},
   "outputs": [
    {
     "name": "stdout",
     "output_type": "stream",
     "text": [
      "Mảng có 16 phần tử: 1 4 1 2 3 4 1 2 3 3 1 2 3 4 10 2\n"
     ]
    }
   ],
   "source": [
    "def XuatMang(a):\n",
    "    \"\"\"\n",
    "    Input:\n",
    "    a = [1, 4, 1, 2, 3, 4, 1, 2, 3, 3, 1, 2, 3, 4, 10, 2]\n",
    "    Output:\n",
    "    In ra màn hình:\n",
    "    Mảng có 16 phần tử: 1 4 1 2 3 4 1 2 3 3 1 2 3 4 10 2\n",
    "    \"\"\"\n",
    "    print(f'Mảng có {len(a)} phần tử: {\" \".join(map(str, a))}')\n",
    "    \n",
    "# XuatMang\n",
    "a = [1, 4, 1, 2, 3, 4, 1, 2, 3, 3, 1, 2, 3, 4, 10, 2]\n",
    "XuatMang(a)"
   ]
  },
  {
   "cell_type": "markdown",
   "id": "42c7d286-f735-4edf-bda4-bae7f0f8d1d5",
   "metadata": {},
   "source": [
    "- Sinh ngẫu nhiên"
   ]
  },
  {
   "cell_type": "code",
   "execution_count": 17,
   "id": "cee475b6-00b6-4cfb-af49-d176d97a646d",
   "metadata": {},
   "outputs": [
    {
     "name": "stdout",
     "output_type": "stream",
     "text": [
      "[-9, 6, 2, 2, -1, -7, -1, -3, 5, -9, -10, -7, -8, 9, 7, 8, -4, 3, 5, -4, -9, 1, -8, -10, 9, -1, 2, -4, 5, -6]\n",
      "[1, 9, 8, 9, 1, 8, 5, 9, 9, 7, 7, 3, 2, 8, 2, 1, 3, 4, 8, 5, 6, 2, 4, 7, 7, 1, 10, 6, 10, 0]\n",
      "[1, -4, 2, 2, 0, -6, -10, -3, -1, -7, -8, -2, -4, -2, -2, -7, -4, -1, -10, 1, 1, -4, -5, -9, 2, -2, 0, -2, 2, -1]\n"
     ]
    }
   ],
   "source": [
    "import random\n",
    "\n",
    "def SinhNgauNhien(n, vmin=-10, vmax=10):\n",
    "    \"\"\"\n",
    "    Input:\n",
    "    n: số lượng phần tử cần sinh ngẫu nhiên\n",
    "    vmin: giá trị nhỏ nhất\n",
    "    vmax: giá trị lớn nhất\n",
    "\n",
    "    Output:\n",
    "    Trả về mảng a với n phần tử có giá trị ngẫu nhiên trong khoảng từ vmin đến vmax\n",
    "    Ví dụ:\n",
    "    a = [-1, -4, -8, 6, 4, -5, -1, -4, -9, -5, -10, 0, -6, 2, 1, -9, -9, 10, -8, -9, -7,\n",
    "    9, 2, -4, -1, -6, 5, -6, 9, -8]\n",
    "    \"\"\"\n",
    "    a = []\n",
    "\n",
    "    # Sinh các giá trị ngẫu nhiên trong khoảng từ vmin đến vmax\n",
    "    for i in range(n):\n",
    "        ai = random.randint(vmin, vmax)\n",
    "        a.append(ai)\n",
    "\n",
    "    return a\n",
    "\n",
    "# Kiểm tra hàm\n",
    "b = SinhNgauNhien(30, -10, 10)\n",
    "print(b)\n",
    "b = SinhNgauNhien(30, vmin=0)\n",
    "print(b)\n",
    "b = SinhNgauNhien(30, vmax=2)\n",
    "print(b)"
   ]
  },
  {
   "cell_type": "markdown",
   "id": "f4627165-9815-4ae9-9fa2-42db347f44a0",
   "metadata": {},
   "source": [
    "- Đếm tổng chẳn lẻ"
   ]
  },
  {
   "cell_type": "code",
   "execution_count": 18,
   "id": "dbddaca2-e336-4276-a716-fe97a6693b19",
   "metadata": {},
   "outputs": [
    {
     "name": "stdout",
     "output_type": "stream",
     "text": [
      "(-31, 17, 13)\n",
      "(141, 17, 13)\n"
     ]
    }
   ],
   "source": [
    "def DemTongChanLe(a):\n",
    "    \"\"\"\n",
    "    Input: a[] = [1, 4, 2, 0, -1, -7, 3, -6, 4, 9, -5, 7, 7, -7, -10, 1, -10, 9, -4, -6, 10, -\n",
    "    2, -10, -8, -3, 2, -7, -10, 6, 0]\n",
    "    Output: tong, sochan, sole\n",
    "    \"\"\"\n",
    "    tong = 0\n",
    "    sochan = 0\n",
    "    sole = 0\n",
    "\n",
    "    # Tính tổng và đếm số lượng số chẵn và lẻ\n",
    "    for ai in a:\n",
    "        tong += ai\n",
    "        if ai % 2 == 0:\n",
    "            sochan += 1\n",
    "        else:\n",
    "            sole += 1\n",
    "\n",
    "    return tong, sochan, sole\n",
    "\n",
    "# Kiểm tra hàm\n",
    "a = [1, 4, 2, 0, -1, -7, 3, -6, 4, 9, -5, 7, 7, -7, -10, 1, -10, 9, -4, -6, 10, -2, -10, -8, -3, 2, -7, -10, 6, 0]\n",
    "print(DemTongChanLe(a))  # Kết quả dự kiến: (-31, 17, 13)\n",
    "\n",
    "a = [9, 6, 5, 0, 8, 8, 1, 10, 0, 0, 1, 1, 2, 7, 1, 10, 9, 1, 10, 8, 2, 8, 4, 5, 4, 5, 5, 3, 6, 2]\n",
    "print(DemTongChanLe(a))  # Kết quả dự kiến: (141, 17, 13)"
   ]
  },
  {
   "cell_type": "markdown",
   "id": "a4f2e35e-dae4-4121-b983-523c777c3940",
   "metadata": {},
   "source": [
    "- Xuất chẳn lẻ"
   ]
  },
  {
   "cell_type": "code",
   "execution_count": 19,
   "id": "68d69262-1dcd-46cb-bbbb-24dec7e2dcd9",
   "metadata": {},
   "outputs": [
    {
     "name": "stdout",
     "output_type": "stream",
     "text": [
      "DayChanLe:\n",
      "Chan = [4, 2, 0, -6, 4, -10, -10, -4, -6, 10, -2, -10, -8, 2, -10, 6, 0]\n",
      "Le = [1, -1, -7, 3, 9, -5, 7, 7, -7, 1, 9, -3, -7]\n"
     ]
    }
   ],
   "source": [
    "def DayChanLe(a):\n",
    "    \"\"\"\n",
    "    Input:\n",
    "    a = [1, 4, 2, 0, -1, -7, 3, -6, 4, 9, -5, 7, 7, -7, -10, 1, -10, 9, -4, -6, 10, -2, -10, -8, -3, 2, -7, -10, 6, 0]\n",
    "\n",
    "    Output:\n",
    "    achan = [4, 2, 0, -6, 4, -10, -10, -4, -6, 10, -2, -10, -8, 2, -10, 6, 0]\n",
    "    ale = [1, -1, -7, 3, 9, -5, 7, 7, -7, 1, 9, -3, -7]\n",
    "    \"\"\"\n",
    "    achan = []\n",
    "    ale = []\n",
    "\n",
    "    # Phân loại chẵn và lẻ\n",
    "    for ai in a:\n",
    "        if ai % 2 == 0:\n",
    "            achan.append(ai)\n",
    "        else:\n",
    "            ale.append(ai)\n",
    "\n",
    "    return achan, ale\n",
    "\n",
    "# Kiểm tra hàm DayChanLe\n",
    "a = [1, 4, 2, 0, -1, -7, 3, -6, 4, 9, -5, 7, 7, -7, -10, 1, -10, 9, -4, -6, 10, -2, -10, -8, -3, 2, -7, -10, 6, 0]\n",
    "achan, ale = DayChanLe(a)\n",
    "print(f'DayChanLe:\\nChan = {achan}\\nLe = {ale}')"
   ]
  },
  {
   "cell_type": "markdown",
   "id": "c456a016-5f0b-424f-993f-a3c7f98785b2",
   "metadata": {},
   "source": [
    "### Bài 9. Các thao tác trên tập hợp, từ điển\n",
    "Viết chương trình nhập vào một dãy ký tự a cách nhau bởi khoảng trắng. Hãy thực hiện:\n",
    "- In các ký tự trong a không trùng nhau và được sắp theo thứ tự tăng dần\n",
    "- Đếm số lần xuất hiện các ký tự trong dãy a"
   ]
  },
  {
   "cell_type": "markdown",
   "id": "8ecb15a8-79f3-4e45-b0f0-e460aa24f690",
   "metadata": {},
   "source": [
    "Hướng dẫn:\n",
    "- Xử lý không trùng"
   ]
  },
  {
   "cell_type": "code",
   "execution_count": 20,
   "id": "c5026246-86e3-441f-9962-51bba1e88112",
   "metadata": {},
   "outputs": [
    {
     "name": "stdout",
     "output_type": "stream",
     "text": [
      "['A', 'C', 'F', 'G', 'H', 'T']\n"
     ]
    }
   ],
   "source": [
    "def XuLyKhongTrung(a):\n",
    "    \"\"\"\n",
    "    Input:\n",
    "    a = ['A', 'G', 'C', 'A', 'C', 'F', 'F', 'T', 'H']\n",
    "    Output:\n",
    "    s = ['A', 'C', 'F', 'G', 'H', 'T']\n",
    "    \"\"\"\n",
    "    # Sử dụng tập hợp để loại bỏ các phần tử trùng lặp\n",
    "    s = set()\n",
    "\n",
    "    # Thêm các phần tử của a vào tập hợp\n",
    "    for ai in a:\n",
    "        s.add(ai)\n",
    "\n",
    "    # Trả về danh sách đã sắp xếp\n",
    "    return sorted(s)\n",
    "\n",
    "# Kiểm tra hàm XuLyKhongTrung\n",
    "a = ['A', 'G', 'C', 'A', 'C', 'F', 'F', 'T', 'H']\n",
    "b = XuLyKhongTrung(a)\n",
    "print(b)  # Kết quả mong đợi: ['A', 'C', 'F', 'G', 'H', 'T']"
   ]
  },
  {
   "cell_type": "markdown",
   "id": "e92a9f41-007c-4ec1-a10c-d09d70f1bf2e",
   "metadata": {},
   "source": [
    "- Đếm tần số xuất hiện"
   ]
  },
  {
   "cell_type": "code",
   "execution_count": 21,
   "id": "fcfac51f-7e13-4f10-8953-52cbe237ca44",
   "metadata": {},
   "outputs": [
    {
     "name": "stdout",
     "output_type": "stream",
     "text": [
      "{'A': 2, 'G': 1, 'C': 2, 'F': 2, 'T': 1, 'H': 1}\n"
     ]
    }
   ],
   "source": [
    "def DemSoLanXuatHien(a):\n",
    "    \"\"\"\n",
    "    Input:\n",
    "    a = ['A', 'G', 'C', 'A', 'C', 'F', 'F', 'T', 'H']\n",
    "    Output:\n",
    "    dem = {'A': 2, 'G': 1, 'C': 2, 'F': 2, 'T': 1, 'H': 1}\n",
    "    \"\"\"\n",
    "    dem = {}  # Tạo dictionary để lưu số lần xuất hiện của các ký tự\n",
    "\n",
    "    # Duyệt qua từng phần tử trong danh sách a\n",
    "    for ai in a:\n",
    "        if ai in dem:\n",
    "            dem[ai] += 1  # Nếu ký tự đã tồn tại trong từ điển, tăng số lần xuất hiện\n",
    "        else:\n",
    "            dem[ai] = 1  # Nếu ký tự chưa tồn tại, khởi tạo số lần xuất hiện là 1\n",
    "\n",
    "    return dem\n",
    "\n",
    "# Kiểm tra hàm DemSoLanXuatHien\n",
    "a = ['A', 'G', 'C', 'A', 'C', 'F', 'F', 'T', 'H']\n",
    "b = DemSoLanXuatHien(a)\n",
    "print(b)"
   ]
  },
  {
   "cell_type": "markdown",
   "id": "899e3afd-d205-4408-a5c6-52497bec1a98",
   "metadata": {},
   "source": [
    "# Kết thúc"
   ]
  }
 ],
 "metadata": {
  "kernelspec": {
   "display_name": "Python 3 (ipykernel)",
   "language": "python",
   "name": "python3"
  },
  "language_info": {
   "codemirror_mode": {
    "name": "ipython",
    "version": 3
   },
   "file_extension": ".py",
   "mimetype": "text/x-python",
   "name": "python",
   "nbconvert_exporter": "python",
   "pygments_lexer": "ipython3",
   "version": "3.12.5"
  }
 },
 "nbformat": 4,
 "nbformat_minor": 5
}
