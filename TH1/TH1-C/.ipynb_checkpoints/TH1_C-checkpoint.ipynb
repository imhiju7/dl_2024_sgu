{
 "cells": [
  {
   "cell_type": "markdown",
   "id": "12f8463f-cfc1-44bb-be2f-a7ce51a9d0b0",
   "metadata": {},
   "source": [
    "# KỸ THUẬT LẬP TRÌNH PYTHON"
   ]
  },
  {
   "cell_type": "markdown",
   "id": "8261be2d-b208-4480-b870-57b977467871",
   "metadata": {},
   "source": [
    "## Bài 1. Tính toán trên dãy số\n",
    "1. Tạo một dãy số a có N phần tử (N = 10)"
   ]
  },
  {
   "cell_type": "code",
   "execution_count": 1,
   "id": "751cf2fb-8297-474b-95f3-8a15d95d6c82",
   "metadata": {},
   "outputs": [
    {
     "name": "stdout",
     "output_type": "stream",
     "text": [
      "Dãy số a: [120 183 160 175 145 162 190 160 152 162]\n"
     ]
    }
   ],
   "source": [
    "import numpy as np\n",
    "\n",
    "# 1. Tạo một dãy số a có N phần tử (N = 10)\n",
    "N = 10\n",
    "a = np.array([120, 183, 160, 175, 145, 162, 190, 160, 152, 162])  # Dãy số cố định\n",
    "# Hoặc bạn có thể sử dụng dòng sau để sinh ngẫu nhiên các số nguyên trong khoảng từ 100 đến 200\n",
    "# a = np.random.randint(100, 200, N)\n",
    "\n",
    "print(\"Dãy số a:\", a)"
   ]
  },
  {
   "cell_type": "markdown",
   "id": "0144d15f-6cbf-4ea3-8a3c-1ab4364aece4",
   "metadata": {},
   "source": [
    " 2. Các thao tác trên dãy số a\n",
    "- a. Bình phương các phần tử trong dãy số\n",
    "- b. Tìm số lượng các phần tử của dãy số\n",
    "- c. In ra giá trị lớn nhất, giá trị nhỏ nhất và giá trị trung bình\n",
    "- d. Tính phương sai của dãy số $\\delta^2 = \\frac{\\Sigma (a_i - \\mu)^2}{N - 1} \\quad \\text{với} \\quad \\mu = \\frac{\\Sigma a_i}{N} \\quad \\text{và độ lệch chuẩn} \\quad \\text{var} = \\sqrt{\\delta^2}$"
   ]
  },
  {
   "cell_type": "code",
   "execution_count": 2,
   "id": "ac62d1dd-45f7-4665-865b-48d58de9a9bc",
   "metadata": {},
   "outputs": [
    {
     "name": "stdout",
     "output_type": "stream",
     "text": [
      "2. Các thao tác tính toán đơn giản với dãy số a\n",
      "a. Bình phương a: [14400 33489 25600 30625 21025 26244 36100 25600 23104 26244]\n",
      "\n",
      "b. Độ dài của a: 10\n",
      "\n",
      "c. Giá trị lớn nhất: [190], giá trị nhỏ nhất: [120], giá trị trung bình: [160.9]\n",
      "\n",
      "d. Phương sai: [393.66] và độ lệch chuẩn: [19.84]\n"
     ]
    }
   ],
   "source": [
    "import numpy as np\n",
    "\n",
    "# Khởi tạo dãy số a\n",
    "a = np.array([120, 183, 160, 175, 145, 162, 190, 160, 152, 162])\n",
    "\n",
    "print(\"2. Các thao tác tính toán đơn giản với dãy số a\")\n",
    "\n",
    "# a. Bình phương các phần tử của a\n",
    "a2 = a * a\n",
    "print(\"a. Bình phương a:\", a2)\n",
    "\n",
    "# b. Độ dài của dãy a\n",
    "na = len(a)\n",
    "print(\"\\nb. Độ dài của a:\", na)\n",
    "\n",
    "# c. Giá trị lớn nhất, nhỏ nhất và giá trị trung bình\n",
    "v_max = np.max(a)\n",
    "v_min = np.min(a)\n",
    "v_avg = np.average(a)\n",
    "print(f'\\nc. Giá trị lớn nhất: [{v_max}], giá trị nhỏ nhất: [{v_min}], giá trị trung bình: [{v_avg}]')\n",
    "\n",
    "# d. Phương sai và độ lệch chuẩn\n",
    "v_mean = np.mean(a)\n",
    "v_sigma2 = np.sum((a - v_mean) ** 2) / (len(a) - 1)  # Tính phương sai\n",
    "v_var = np.sqrt(v_sigma2)  # Tính độ lệch chuẩn\n",
    "print(f'\\nd. Phương sai: [{v_sigma2:.2f}] và độ lệch chuẩn: [{v_var:.2f}]')"
   ]
  },
  {
   "cell_type": "markdown",
   "id": "8e5beac4-2de1-49fa-9eba-0a8e47d3f0a9",
   "metadata": {},
   "source": [
    "3. Toán tử trên hai dãy số\n",
    "- a. Tạo dãy số x có 10 phần tử từ 1 đến 10 (dùng hàm np.arange)"
   ]
  },
  {
   "cell_type": "code",
   "execution_count": 3,
   "id": "5a050b91-6709-4795-8943-6cdca8f8f3da",
   "metadata": {},
   "outputs": [
    {
     "name": "stdout",
     "output_type": "stream",
     "text": [
      "3. Xử lý khác trên dãy số\n",
      "a. Dãy số x: [ 1  2  3  4  5  6  7  8  9 10]\n"
     ]
    }
   ],
   "source": [
    "import numpy as np\n",
    "\n",
    "print(\"3. Xử lý khác trên dãy số\")\n",
    "\n",
    "# a. Tạo dãy số x từ 1 đến 10\n",
    "x = np.arange(1, 11)  # Tạo dãy số từ 1 đến 10\n",
    "print(f'a. Dãy số x: {x}')"
   ]
  },
  {
   "cell_type": "markdown",
   "id": "2f0e4f15-e672-4103-bd29-fcdfa896fabe",
   "metadata": {},
   "source": [
    "- b. Liệt kê và đếm số lượng phần tử chẵn và lẻ có trong dãy a và x"
   ]
  },
  {
   "cell_type": "code",
   "execution_count": 4,
   "id": "943fc39b-ab02-43ea-a21e-f5a64e38398a",
   "metadata": {},
   "outputs": [
    {
     "name": "stdout",
     "output_type": "stream",
     "text": [
      "3. Xử lý khác trên dãy số\n",
      "b. Các phần tử chẵn trong dãy a, b:\n",
      "+ Dãy a: [120 183 160 175 145 162 190 160 152 162]\n",
      " - Lọc chẵn: [ True False  True False False  True  True  True  True  True]\n",
      " - Dãy chứa phần tử chẵn trong a: [120 160 162 190 160 152 162], số lượng 7 phần tử.\n",
      "+ Dãy x: [ 1  2  3  4  5  6  7  8  9 10]\n",
      " - Lọc chẵn: [False  True False  True False  True False  True False  True]\n",
      " - Dãy chứa phần tử chẵn trong x: [ 2  4  6  8 10], số lượng 5 phần tử.\n"
     ]
    }
   ],
   "source": [
    "import numpy as np\n",
    "\n",
    "# Khởi tạo dãy a và x\n",
    "a = np.array([120, 183, 160, 175, 145, 162, 190, 160, 152, 162])\n",
    "x = np.arange(1, 11)  # Dãy x từ 1 đến 10\n",
    "\n",
    "print(\"3. Xử lý khác trên dãy số\")\n",
    "\n",
    "# Lọc các phần tử chẵn trong dãy a\n",
    "a_la_chan = a % 2 == 0  # Kiểm tra điều kiện chẵn\n",
    "a_chan = a[a_la_chan]  # Lấy các phần tử chẵn\n",
    "n_a_chan = len(a_chan)  # Số lượng phần tử chẵn trong a\n",
    "\n",
    "# Lọc các phần tử chẵn trong dãy x\n",
    "x_la_chan = x % 2 == 0  # Kiểm tra điều kiện chẵn\n",
    "x_chan = x[x_la_chan]  # Lấy các phần tử chẵn\n",
    "n_x_chan = len(x_chan)  # Số lượng phần tử chẵn trong x\n",
    "\n",
    "# In kết quả\n",
    "print(\"b. Các phần tử chẵn trong dãy a, b:\")\n",
    "print(f\"+ Dãy a: {a}\")\n",
    "print(f\" - Lọc chẵn: {a_la_chan}\")\n",
    "print(f\" - Dãy chứa phần tử chẵn trong a: {a_chan}, số lượng {n_a_chan} phần tử.\")\n",
    "print(f\"+ Dãy x: {x}\")\n",
    "print(f\" - Lọc chẵn: {x_la_chan}\")\n",
    "print(f\" - Dãy chứa phần tử chẵn trong x: {x_chan}, số lượng {n_x_chan} phần tử.\")"
   ]
  },
  {
   "cell_type": "code",
   "execution_count": null,
   "id": "a7a7b5a9-be67-48cb-9d8c-0639fff6cf6e",
   "metadata": {},
   "outputs": [],
   "source": []
  }
 ],
 "metadata": {
  "kernelspec": {
   "display_name": "Python 3 (ipykernel)",
   "language": "python",
   "name": "python3"
  },
  "language_info": {
   "codemirror_mode": {
    "name": "ipython",
    "version": 3
   },
   "file_extension": ".py",
   "mimetype": "text/x-python",
   "name": "python",
   "nbconvert_exporter": "python",
   "pygments_lexer": "ipython3",
   "version": "3.12.5"
  }
 },
 "nbformat": 4,
 "nbformat_minor": 5
}
