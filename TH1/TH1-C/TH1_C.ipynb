{
 "cells": [
  {
   "cell_type": "markdown",
   "id": "12f8463f-cfc1-44bb-be2f-a7ce51a9d0b0",
   "metadata": {},
   "source": [
    "# KỸ THUẬT LẬP TRÌNH PYTHON"
   ]
  },
  {
   "cell_type": "markdown",
   "id": "8261be2d-b208-4480-b870-57b977467871",
   "metadata": {},
   "source": [
    "## Bài 1. Tính toán trên dãy số\n",
    "1. Tạo một dãy số a có N phần tử (N = 10)"
   ]
  },
  {
   "cell_type": "code",
   "execution_count": 1,
   "id": "751cf2fb-8297-474b-95f3-8a15d95d6c82",
   "metadata": {},
   "outputs": [
    {
     "name": "stdout",
     "output_type": "stream",
     "text": [
      "Dãy số a: [120 183 160 175 145 162 190 160 152 162]\n"
     ]
    }
   ],
   "source": [
    "import numpy as np\n",
    "\n",
    "# 1. Tạo một dãy số a có N phần tử (N = 10)\n",
    "N = 10\n",
    "a = np.array([120, 183, 160, 175, 145, 162, 190, 160, 152, 162])  # Dãy số cố định\n",
    "# Hoặc bạn có thể sử dụng dòng sau để sinh ngẫu nhiên các số nguyên trong khoảng từ 100 đến 200\n",
    "# a = np.random.randint(100, 200, N)\n",
    "\n",
    "print(\"Dãy số a:\", a)"
   ]
  },
  {
   "cell_type": "markdown",
   "id": "0144d15f-6cbf-4ea3-8a3c-1ab4364aece4",
   "metadata": {},
   "source": [
    " 2. Các thao tác trên dãy số a\n",
    "- a. Bình phương các phần tử trong dãy số\n",
    "- b. Tìm số lượng các phần tử của dãy số\n",
    "- c. In ra giá trị lớn nhất, giá trị nhỏ nhất và giá trị trung bình\n",
    "- d. Tính phương sai của dãy số $\\delta^2 = \\frac{\\Sigma (a_i - \\mu)^2}{N - 1} \\quad \\text{với} \\quad \\mu = \\frac{\\Sigma a_i}{N} \\quad \\text{và độ lệch chuẩn} \\quad \\text{var} = \\sqrt{\\delta^2}$"
   ]
  },
  {
   "cell_type": "code",
   "execution_count": 2,
   "id": "ac62d1dd-45f7-4665-865b-48d58de9a9bc",
   "metadata": {},
   "outputs": [
    {
     "name": "stdout",
     "output_type": "stream",
     "text": [
      "2. Các thao tác tính toán đơn giản với dãy số a\n",
      "a. Bình phương a: [14400 33489 25600 30625 21025 26244 36100 25600 23104 26244]\n",
      "\n",
      "b. Độ dài của a: 10\n",
      "\n",
      "c. Giá trị lớn nhất: [190], giá trị nhỏ nhất: [120], giá trị trung bình: [160.9]\n",
      "\n",
      "d. Phương sai: [393.66] và độ lệch chuẩn: [19.84]\n"
     ]
    }
   ],
   "source": [
    "import numpy as np\n",
    "\n",
    "# Khởi tạo dãy số a\n",
    "a = np.array([120, 183, 160, 175, 145, 162, 190, 160, 152, 162])\n",
    "\n",
    "print(\"2. Các thao tác tính toán đơn giản với dãy số a\")\n",
    "\n",
    "# a. Bình phương các phần tử của a\n",
    "a2 = a * a\n",
    "print(\"a. Bình phương a:\", a2)\n",
    "\n",
    "# b. Độ dài của dãy a\n",
    "na = len(a)\n",
    "print(\"\\nb. Độ dài của a:\", na)\n",
    "\n",
    "# c. Giá trị lớn nhất, nhỏ nhất và giá trị trung bình\n",
    "v_max = np.max(a)\n",
    "v_min = np.min(a)\n",
    "v_avg = np.average(a)\n",
    "print(f'\\nc. Giá trị lớn nhất: [{v_max}], giá trị nhỏ nhất: [{v_min}], giá trị trung bình: [{v_avg}]')\n",
    "\n",
    "# d. Phương sai và độ lệch chuẩn\n",
    "v_mean = np.mean(a)\n",
    "v_sigma2 = np.sum((a - v_mean) ** 2) / (len(a) - 1)  # Tính phương sai\n",
    "v_var = np.sqrt(v_sigma2)  # Tính độ lệch chuẩn\n",
    "print(f'\\nd. Phương sai: [{v_sigma2:.2f}] và độ lệch chuẩn: [{v_var:.2f}]')"
   ]
  },
  {
   "cell_type": "markdown",
   "id": "8e5beac4-2de1-49fa-9eba-0a8e47d3f0a9",
   "metadata": {},
   "source": [
    "3. Toán tử trên hai dãy số\n",
    "- a. Tạo dãy số x có 10 phần tử từ 1 đến 10 (dùng hàm np.arange)"
   ]
  },
  {
   "cell_type": "code",
   "execution_count": 3,
   "id": "5a050b91-6709-4795-8943-6cdca8f8f3da",
   "metadata": {},
   "outputs": [
    {
     "name": "stdout",
     "output_type": "stream",
     "text": [
      "3. Xử lý khác trên dãy số\n",
      "a. Dãy số x: [ 1  2  3  4  5  6  7  8  9 10]\n"
     ]
    }
   ],
   "source": [
    "import numpy as np\n",
    "\n",
    "print(\"3. Xử lý khác trên dãy số\")\n",
    "\n",
    "# a. Tạo dãy số x từ 1 đến 10\n",
    "x = np.arange(1, 11)  # Tạo dãy số từ 1 đến 10\n",
    "print(f'a. Dãy số x: {x}')"
   ]
  },
  {
   "cell_type": "markdown",
   "id": "2f0e4f15-e672-4103-bd29-fcdfa896fabe",
   "metadata": {},
   "source": [
    "- b. Liệt kê và đếm số lượng phần tử chẵn và lẻ có trong dãy a và x"
   ]
  },
  {
   "cell_type": "code",
   "execution_count": 4,
   "id": "943fc39b-ab02-43ea-a21e-f5a64e38398a",
   "metadata": {},
   "outputs": [
    {
     "name": "stdout",
     "output_type": "stream",
     "text": [
      "3. Xử lý khác trên dãy số\n",
      "b. Các phần tử chẵn trong dãy a, b:\n",
      "+ Dãy a: [120 183 160 175 145 162 190 160 152 162]\n",
      " - Lọc chẵn: [ True False  True False False  True  True  True  True  True]\n",
      " - Dãy chứa phần tử chẵn trong a: [120 160 162 190 160 152 162], số lượng 7 phần tử.\n",
      "+ Dãy x: [ 1  2  3  4  5  6  7  8  9 10]\n",
      " - Lọc chẵn: [False  True False  True False  True False  True False  True]\n",
      " - Dãy chứa phần tử chẵn trong x: [ 2  4  6  8 10], số lượng 5 phần tử.\n"
     ]
    }
   ],
   "source": [
    "import numpy as np\n",
    "\n",
    "# Khởi tạo dãy a và x\n",
    "a = np.array([120, 183, 160, 175, 145, 162, 190, 160, 152, 162])\n",
    "x = np.arange(1, 11)  # Dãy x từ 1 đến 10\n",
    "\n",
    "print(\"3. Xử lý khác trên dãy số\")\n",
    "\n",
    "# Lọc các phần tử chẵn trong dãy a\n",
    "a_la_chan = a % 2 == 0  # Kiểm tra điều kiện chẵn\n",
    "a_chan = a[a_la_chan]  # Lấy các phần tử chẵn\n",
    "n_a_chan = len(a_chan)  # Số lượng phần tử chẵn trong a\n",
    "\n",
    "# Lọc các phần tử chẵn trong dãy x\n",
    "x_la_chan = x % 2 == 0  # Kiểm tra điều kiện chẵn\n",
    "x_chan = x[x_la_chan]  # Lấy các phần tử chẵn\n",
    "n_x_chan = len(x_chan)  # Số lượng phần tử chẵn trong x\n",
    "\n",
    "# In kết quả\n",
    "print(\"b. Các phần tử chẵn trong dãy a, b:\")\n",
    "print(f\"+ Dãy a: {a}\")\n",
    "print(f\" - Lọc chẵn: {a_la_chan}\")\n",
    "print(f\" - Dãy chứa phần tử chẵn trong a: {a_chan}, số lượng {n_a_chan} phần tử.\")\n",
    "print(f\"+ Dãy x: {x}\")\n",
    "print(f\" - Lọc chẵn: {x_la_chan}\")\n",
    "print(f\" - Dãy chứa phần tử chẵn trong x: {x_chan}, số lượng {n_x_chan} phần tử.\")"
   ]
  },
  {
   "cell_type": "markdown",
   "id": "01f3c05f-1423-4626-93a7-4bb803d29f26",
   "metadata": {},
   "source": [
    "- c. Tính khoảng cách giữa các phần tử ở vị trí lẻ của mảng a và x với $s = \\sqrt{\\sum (a_i - x_i)^2}\n",
    "$"
   ]
  },
  {
   "cell_type": "code",
   "execution_count": 6,
   "id": "cf3b5115-846b-4f21-963f-1c80b81c95ac",
   "metadata": {},
   "outputs": [
    {
     "name": "stdout",
     "output_type": "stream",
     "text": [
      "c. Tính hiệu các phần tử ở vị trí lẻ của mảng a và x:\n",
      "+ Vị trí lẻ trong a và x: [1, 3, 5, 7, 9]\n",
      "+ Dãy số a: [120 183 160 175 145 162 190 160 152 162] và các số ở vị trí lẻ: [183 175 162 160 162]\n",
      "+ Dãy số x: [ 1  2  3  4  5  6  7  8  9 10] và các số ở vị trí lẻ: [ 2  4  6  8 10]\n",
      "+ Hiệu của a và x ở vị trí lẻ: [181 171 156 152 152]\n",
      "+ Khoảng cách các phần tử của a và x ở vị trí lẻ:  364.07\n"
     ]
    }
   ],
   "source": [
    "import numpy as np\n",
    "\n",
    "# Khởi tạo dãy a và x\n",
    "a = np.array([120, 183, 160, 175, 145, 162, 190, 160, 152, 162])\n",
    "x = np.arange(1, 11)  # Dãy x từ 1 đến 10\n",
    "\n",
    "# Tính toán\n",
    "v_le = list(range(1, len(a), 2))  # Chỉ số vị trí lẻ (index bắt đầu từ 0)\n",
    "a_le = a[v_le]  # Các phần tử ở vị trí lẻ của dãy a\n",
    "x_le = x[v_le]  # Các phần tử ở vị trí lẻ của dãy x\n",
    "hieu_le = a_le - x_le  # Hiệu của các phần tử ở vị trí lẻ\n",
    "kc_le = np.sqrt(np.sum(hieu_le ** 2))  # Tính khoảng cách giữa các phần tử\n",
    "\n",
    "# In kết quả\n",
    "print(\"c. Tính hiệu các phần tử ở vị trí lẻ của mảng a và x:\")\n",
    "print(f\"+ Vị trí lẻ trong a và x: {v_le}\")\n",
    "print(f\"+ Dãy số a: {a} và các số ở vị trí lẻ: {a_le}\")\n",
    "print(f\"+ Dãy số x: {x} và các số ở vị trí lẻ: {x_le}\")\n",
    "print(f\"+ Hiệu của a và x ở vị trí lẻ: {hieu_le}\")\n",
    "print(f\"+ Khoảng cách các phần tử của a và x ở vị trí lẻ: {kc_le: .2f}\")\n"
   ]
  },
  {
   "cell_type": "markdown",
   "id": "25842b26-ba49-40ed-8370-796a1706d6d1",
   "metadata": {},
   "source": [
    "d. Tìm khoảng cách nhỏ nhất giữa tập a và x. Ví dụ: min({1, 3, 5},{2, 10, 8}} = 1"
   ]
  },
  {
   "cell_type": "code",
   "execution_count": 7,
   "id": "e53d1425-bff8-4482-837f-0f83050e7dfe",
   "metadata": {},
   "outputs": [
    {
     "name": "stdout",
     "output_type": "stream",
     "text": [
      "d. Tìm khoảng cách nhỏ nhất giữa tập a và x\n",
      "+ Dãy a: [120 183 160 175 145 162 190 160 152 162]\n",
      "+ Dãy x: [ 1  2  3  4  5  6  7  8  9 10]\n",
      "+ Khoảng cách nhỏ nhất: 110\n"
     ]
    }
   ],
   "source": [
    "import numpy as np\n",
    "\n",
    "# Khởi tạo dãy a và x\n",
    "a = np.array([120, 183, 160, 175, 145, 162, 190, 160, 152, 162])\n",
    "x = np.arange(1, 11)  # Dãy x từ 1 đến 10\n",
    "\n",
    "print(\"d. Tìm khoảng cách nhỏ nhất giữa tập a và x\")\n",
    "\n",
    "# Tăng số chiều cho mảng a bằng np.newaxis để thực hiện phép tính broadcasting\n",
    "v_min = np.min(np.abs(a[:, np.newaxis] - x))\n",
    "\n",
    "# In kết quả\n",
    "print(f\"+ Dãy a: {a}\")\n",
    "print(f\"+ Dãy x: {x}\")\n",
    "print(f\"+ Khoảng cách nhỏ nhất: {v_min}\")"
   ]
  },
  {
   "cell_type": "markdown",
   "id": "13ee0321-a37c-4350-aa04-1c7efbd492c8",
   "metadata": {},
   "source": [
    "4. Sinh ngẫu nhiên dãy số"
   ]
  },
  {
   "cell_type": "markdown",
   "id": "00fa4d59-d9b4-42f4-8c8e-212ae25c6479",
   "metadata": {},
   "source": [
    "a. Sinh ngẫu nhiên dãy số có 100 phần tử theo phân bố đều với giá trị trong đoạn [1, 10] và vẽ đồ thị tần số\n",
    "xuất hiện"
   ]
  },
  {
   "cell_type": "code",
   "execution_count": 8,
   "id": "31d049cc-6363-4e43-8303-8afdc1880051",
   "metadata": {},
   "outputs": [
    {
     "name": "stdout",
     "output_type": "stream",
     "text": [
      "a. Sinh ngẫu nhiên theo phân bố đều\n",
      "+ Giá trị: [ 1  2  3  4  5  6  7  8  9 10]\n",
      "+ Số lần xuất hiện: [1032 1014  964 1007 1019 1011 1007 1017  955  974]\n",
      "+ Đồ thị hàm số xuất hiện\n"
     ]
    },
    {
     "data": {
      "image/png": "[encoded data removed]",
      "text/plain": [
       "<Figure size 600x600 with 1 Axes>"
      ]
     },
     "metadata": {},
     "output_type": "display_data"
    }
   ],
   "source": [
    "import numpy as np\n",
    "import matplotlib.pyplot as plt\n",
    "\n",
    "# Sử dụng hàm np.random.randint để sinh dãy số ngẫu nhiên\n",
    "x = np.random.randint(1, 11, 10000)  # Sinh 10000 số ngẫu nhiên từ 1 đến 10\n",
    "\n",
    "# Sử dụng hàm np.unique để trả về tần số xuất hiện\n",
    "value, cnt = np.unique(x, return_counts=True)\n",
    "\n",
    "# In kết quả\n",
    "print(\"a. Sinh ngẫu nhiên theo phân bố đều\")\n",
    "print(f\"+ Giá trị: {value}\")\n",
    "print(f\"+ Số lần xuất hiện: {cnt}\")\n",
    "\n",
    "# Vẽ đồ thị hàm số xuất hiện\n",
    "print(\"+ Đồ thị hàm số xuất hiện\")\n",
    "plt.figure(figsize=(6,6))  # Kích thước biểu đồ\n",
    "plt.bar(value, cnt)  # Vẽ các khối chữ nhật theo dãy x (giá trị), y (tần số)\n",
    "plt.xlim(0, 11)  # Giới hạn trục x từ 0 đến 11\n",
    "plt.ylim(0, np.max(cnt) + 10)  # Giới hạn trục y, thêm 10 để làm đẹp biểu đồ\n",
    "plt.xlabel(\"Giá trị\")\n",
    "plt.ylabel(\"Số lần xuất hiện\")\n",
    "plt.title(\"Phân bố số lần xuất hiện của các giá trị\")\n",
    "plt.savefig(\"4a.png\")  # Lưu đồ thị dưới dạng file hình ảnh\n",
    "plt.show()  # Hiển thị đồ thị"
   ]
  },
  {
   "cell_type": "markdown",
   "id": "3fbb4af2-1cc9-4b6b-ac28-81190e6292bd",
   "metadata": {},
   "source": [
    "b. Sinh ngẫu nhiên N diem (x, y) với y là hàm phân phối chuẩn $N(\\mu = 1, \\sigma^2 = 1.0)\n",
    "$\n",
    "- $y = f(x | \\mu, \\sigma) = \\frac{1}{\\sigma \\sqrt{2\\pi}} \\exp \\left( - \\frac{(x - \\mu)^2}{2\\sigma^2} \\right)\n",
    "$\n",
    "- $\\text{nơi mà } x \\in [\\mu - 5\\sigma, \\mu + 5\\sigma].$\n"
   ]
  },
  {
   "cell_type": "code",
   "execution_count": 9,
   "id": "bb4eb549-a47a-4fd8-a3d2-70bb1247ac8c",
   "metadata": {},
   "outputs": [
    {
     "name": "stdout",
     "output_type": "stream",
     "text": [
      "b. Sinh cặp (x, y) với y làm hàm phân phối chuẩn\n",
      "+ x: -4.0 <= min [-3.88] <= max [ 5.98] <= 6.0\n",
      "+ Vẽ hàm số y(x)\n"
     ]
    },
    {
     "data": {
      "image/png": "[encoded data removed]",
      "text/plain": [
       "<Figure size 600x600 with 1 Axes>"
      ]
     },
     "metadata": {},
     "output_type": "display_data"
    }
   ],
   "source": [
    "import numpy as np\n",
    "import matplotlib.pyplot as plt\n",
    "\n",
    "# Khởi tạo các thông số cho phân phối chuẩn\n",
    "m = 1  # Giá trị trung bình (mu)\n",
    "s2 = 1  # Phương sai (sigma^2)\n",
    "s = np.sqrt(s2)  # Độ lệch chuẩn (sigma)\n",
    "\n",
    "# Tạo khoảng giá trị x từ [mu - 5*sigma, mu + 5*sigma]\n",
    "x_min = m - 5 * s\n",
    "x_max = m + 5 * s\n",
    "\n",
    "# Sinh ngẫu nhiên 100 giá trị x trong khoảng [x_min, x_max]\n",
    "x = np.random.rand(100) * (x_max - x_min) + x_min\n",
    "\n",
    "# Tính giá trị y dựa trên hàm mật độ xác suất chuẩn\n",
    "y = (1.0 / (s * np.sqrt(2 * np.pi))) * np.exp(-((x - m) ** 2) / (2 * s ** 2))\n",
    "\n",
    "# In kết quả\n",
    "print(\"b. Sinh cặp (x, y) với y làm hàm phân phối chuẩn\")\n",
    "print(f\"+ x: {x_min} <= min [{np.min(x): .2f}] <= max [{np.max(x): .2f}] <= {x_max}\")\n",
    "\n",
    "# Vẽ đồ thị hàm số y = f(x)\n",
    "print(f\"+ Vẽ hàm số y(x)\")\n",
    "plt.figure(figsize=(6, 6))  # Kích thước biểu đồ\n",
    "plt.scatter(x, y)  # Vẽ các điểm (xi, yi)\n",
    "plt.xlabel(\"x\")\n",
    "plt.ylabel(\"y\")\n",
    "plt.title(\"Phân phối chuẩn N(1, 1)\")\n",
    "plt.savefig(\"4b.png\")  # Lưu đồ thị dưới dạng file hình ảnh\n",
    "plt.show()  # Hiển thị đồ thị\n"
   ]
  },
  {
   "cell_type": "markdown",
   "id": "cbb453de-63e2-44a5-be16-a1ce8452180b",
   "metadata": {},
   "source": [
    "c. Sinh ngẫu nhiên dãy số có 100000 phần tử theo phân bố chuẩn N(μ = 1, σ^2 = 1.0) và vẽ đồ thị tần số xuất hiện"
   ]
  },
  {
   "cell_type": "code",
   "execution_count": 10,
   "id": "10f6a72c-6fd8-4eaa-8adb-bd172967dfcf",
   "metadata": {},
   "outputs": [
    {
     "name": "stdout",
     "output_type": "stream",
     "text": [
      "c. Sinh dãy số theo phân phối chuẩn\n",
      "+ x: len = 100000, min [-3.603523651668869], max [5.368209593507127]\n",
      "+ Mật số xác suất của dãy số x\n"
     ]
    },
    {
     "data": {
      "image/png": "[encoded data removed]",
      "text/plain": [
       "<Figure size 600x600 with 1 Axes>"
      ]
     },
     "metadata": {},
     "output_type": "display_data"
    }
   ],
   "source": [
    "import numpy as np\n",
    "import matplotlib.pyplot as plt\n",
    "\n",
    "# Sử dụng hàm np.random.randn() để sinh phân phối chuẩn N(0,1)\n",
    "m = 1  # Trung bình (mu)\n",
    "s2 = 1  # Phương sai (sigma^2)\n",
    "s = np.sqrt(s2)  # Độ lệch chuẩn (sigma)\n",
    "\n",
    "# Sinh 100000 giá trị ngẫu nhiên theo phân phối chuẩn N(m, s^2)\n",
    "x = m + np.random.randn(100000) * s\n",
    "\n",
    "# Sử dụng hàm np.histogram để thống kê số lần xuất hiện, với bins = 300\n",
    "cnt, val = np.histogram(x, bins=300, density=True)\n",
    "\n",
    "# Tính giá trị trung bình của các bin để vẽ biểu đồ\n",
    "val = (val[1:] + val[:-1]) / 2\n",
    "\n",
    "# In kết quả\n",
    "print(\"c. Sinh dãy số theo phân phối chuẩn\")\n",
    "print(f\"+ x: len = {len(x)}, min [{np.min(x)}], max [{np.max(x)}]\")\n",
    "\n",
    "# Vẽ biểu đồ mật độ xác suất của dãy số x\n",
    "print(\"+ Mật số xác suất của dãy số x\")\n",
    "plt.figure(figsize=(6, 6))  # Kích thước biểu đồ\n",
    "plt.xlim(np.min(val), np.max(val))\n",
    "plt.scatter(val, cnt)  # Vẽ biểu đồ các giá trị (val, cnt)\n",
    "plt.xlabel(\"Giá trị\")\n",
    "plt.ylabel(\"Mật độ xác suất\")\n",
    "plt.title(\"Mật số xác suất của dãy số theo phân phối chuẩn\")\n",
    "plt.show()\n"
   ]
  },
  {
   "cell_type": "markdown",
   "id": "08d5b323-b894-4418-ab7c-08ec3d712f31",
   "metadata": {},
   "source": [
    "## Bài 2. Tính toán trên ma trận"
   ]
  },
  {
   "cell_type": "markdown",
   "id": "8e89b599-e1d5-4a79-8b6e-045e0fa0d5ec",
   "metadata": {},
   "source": [
    "1. Tạo ma trận a có M = 6 dòng, N = 4 cột"
   ]
  },
  {
   "cell_type": "code",
   "execution_count": 11,
   "id": "740b9271-3e29-4ad3-843c-5d4f6706b401",
   "metadata": {},
   "outputs": [
    {
     "name": "stdout",
     "output_type": "stream",
     "text": [
      "Ma trận a: \n",
      " [[197 123 114 153]\n",
      " [100 191 101 148]\n",
      " [116 154 135 155]\n",
      " [173 151 137 152]\n",
      " [177 178 107 174]\n",
      " [169 195 136 133]]\n"
     ]
    }
   ],
   "source": [
    "# a = np.random.randint(100, 200, (6, 4))\n",
    "\"\"\" CÁC BẠN LÀM BÀI Ở ĐÂY \"\"\"\n",
    "a = np.array([[197, 123, 114, 153],\n",
    "[100, 191, 101, 148],\n",
    "[116, 154, 135, 155],\n",
    "[173, 151, 137, 152],\n",
    "[177, 178, 107, 174],\n",
    "[169, 195, 136, 133]])\n",
    "print(\"Ma trận a: \\n\", a)\n",
    "# Ma trận a:\n",
    "# [[197 123 114 153]\n",
    "# [100 191 101 148]\n",
    "# [116 154 135 155]\n",
    "# [173 151 137 152]\n",
    "# [177 178 107 174]\n",
    "# [169 195 136 133]]"
   ]
  },
  {
   "cell_type": "markdown",
   "id": "c74309b6-fda6-4845-8f9c-e0c9167bb891",
   "metadata": {},
   "source": [
    "2. Các thao tác trên ma trận a\n",
    "- a. In ra ma trận chuyển vị\n",
    "- b. In ra phần tử ở vị trí dòng 2 cột 3\n",
    "- c. Trích xuất dòng đầu, dòng cuối, dòng 2\n",
    "- d. Trích xuất cột kế cuối, cột đầu\n",
    "- e. Đảo các giá trị trên từng cột\n",
    "- f. Tính tổng các dòng, trung bình các cột"
   ]
  },
  {
   "cell_type": "code",
   "execution_count": 12,
   "id": "5468f8e9-c9b6-4d25-8b44-40c172fdcc1e",
   "metadata": {},
   "outputs": [
    {
     "name": "stdout",
     "output_type": "stream",
     "text": [
      "a. In ra ma trận chuyển vị: \n",
      "[[197 100 116 173 177 169]\n",
      " [123 191 154 151 178 195]\n",
      " [114 101 135 137 107 136]\n",
      " [153 148 155 152 174 133]]\n",
      "\n",
      "b. In ra phần tử ở vị trí dòng 2 cột 3: 155\n",
      "\n",
      "c. Trích xuất các dòng: \n",
      " + Dòng đầu: [197 123 114 153]\n",
      " + Dòng cuối: [169 195 136 133]\n",
      " + Dòng thứ ba: [116 154 135 155]\n",
      "\n",
      "d. Trích xuất các cột: \n",
      " + Cột kế cuối: [114 101 135 137 107 136]\n",
      " + Cột đầu: [197 100 116 173 177 169]\n",
      "\n",
      "e. Đảo các giá trị trên từng cột: \n",
      "[[169 195 136 133]\n",
      " [177 178 107 174]\n",
      " [173 151 137 152]\n",
      " [116 154 135 155]\n",
      " [100 191 101 148]\n",
      " [197 123 114 153]]\n",
      "\n",
      "f. Phép tính theo trục:\n",
      " + Tổng dòng: [587 540 560 613 636 633]\n",
      " + Trung bình cột: [155.33333333 165.33333333 121.66666667 152.5       ]\n"
     ]
    }
   ],
   "source": [
    "import numpy as np\n",
    "\n",
    "# Khởi tạo ma trận a\n",
    "a = np.array([[197, 123, 114, 153],\n",
    "              [100, 191, 101, 148],\n",
    "              [116, 154, 135, 155],\n",
    "              [173, 151, 137, 152],\n",
    "              [177, 178, 107, 174],\n",
    "              [169, 195, 136, 133]])\n",
    "\n",
    "# a. In ra ma trận chuyển vị\n",
    "a_t = a.T\n",
    "\n",
    "# b. In ra phần tử ở vị trí dòng 2 cột 3\n",
    "v_23 = a[2, 3]\n",
    "\n",
    "# c. Trích xuất các dòng\n",
    "d_0 = a[0, :]  # Dòng đầu tiên\n",
    "d_last = a[-1, :]  # Dòng cuối cùng\n",
    "d_2 = a[2, :]  # Dòng thứ ba\n",
    "\n",
    "# d. Trích xuất các cột\n",
    "c_l1 = a[:, -2]  # Cột kế cuối\n",
    "c_0 = a[:, 0]  # Cột đầu tiên\n",
    "\n",
    "# e. Đảo các giá trị trên từng cột\n",
    "dao_cot = a[::-1, :]\n",
    "\n",
    "# f. Phép tính tổng dòng và trung bình cột\n",
    "tong_dong = np.sum(a, axis=1)  # Tính tổng theo dòng\n",
    "tb_cot = np.average(a, axis=0)  # Tính trung bình theo cột\n",
    "\n",
    "# In kết quả\n",
    "print(f\"a. In ra ma trận chuyển vị: \\n{a_t}\")\n",
    "print(f\"\\nb. In ra phần tử ở vị trí dòng 2 cột 3: {v_23}\")\n",
    "print(f\"\\nc. Trích xuất các dòng: \")\n",
    "print(f\" + Dòng đầu: {d_0}\")\n",
    "print(f\" + Dòng cuối: {d_last}\")\n",
    "print(f\" + Dòng thứ ba: {d_2}\")\n",
    "print(f\"\\nd. Trích xuất các cột: \")\n",
    "print(f\" + Cột kế cuối: {c_l1}\")\n",
    "print(f\" + Cột đầu: {c_0}\")\n",
    "print(f\"\\ne. Đảo các giá trị trên từng cột: \\n{dao_cot}\")\n",
    "print(f\"\\nf. Phép tính theo trục:\")\n",
    "print(f\" + Tổng dòng: {tong_dong}\")\n",
    "print(f\" + Trung bình cột: {tb_cot}\")"
   ]
  },
  {
   "cell_type": "markdown",
   "id": "6912ce87-4551-4bcb-a1e4-bd12f15a7ec9",
   "metadata": {},
   "source": [
    "3. Các toán tử trên hai ma trận\n",
    "- a. Tạo hai ma trận A và B có 4 dòng x 3 cột và X có 3 dòng x 4 cột\n",
    "- b. Tính tổng, hiệu, tích của từng phần tử trên hai ma trận A và B\n",
    "- c. Tính phép nhân ma trận Y = A × X"
   ]
  },
  {
   "cell_type": "code",
   "execution_count": 13,
   "id": "c7a4de08-7e1d-4889-b9ff-497b8e16bceb",
   "metadata": {},
   "outputs": [
    {
     "name": "stdout",
     "output_type": "stream",
     "text": [
      "a. Tạo hai ma trận A và B có 4 dòng x 3 cột và X có 3 dòng x 4 cột\n",
      "+ Ma trận A: \n",
      "[[4 4 5]\n",
      " [3 4 1]\n",
      " [1 1 1]\n",
      " [3 3 3]]\n",
      "+ Ma trận B: \n",
      "[[2 4 5]\n",
      " [1 3 2]\n",
      " [3 2 5]\n",
      " [2 1 2]]\n",
      "+ Ma trận X: \n",
      "[[3 5 2 4]\n",
      " [3 3 2 1]\n",
      " [1 1 1 4]]\n",
      "\n",
      "b. Tính tổng, hiệu, tích của từng phần tử trên hai ma trận A và B\n",
      "A + B = \n",
      "[[ 6  8 10]\n",
      " [ 4  7  3]\n",
      " [ 4  3  6]\n",
      " [ 5  4  5]]\n",
      "A - B = \n",
      "[[ 2  0  0]\n",
      " [ 2  1 -1]\n",
      " [-2 -1 -4]\n",
      " [ 1  2  1]]\n",
      "A . B (phép nhân từng phần tử) = \n",
      "[[ 8 16 25]\n",
      " [ 3 12  2]\n",
      " [ 3  2  5]\n",
      " [ 6  3  6]]\n",
      "\n",
      "c. Tính phép nhân ma trận Y = A x X\n",
      "Y = A x X --> shape A ((4, 3)) x shape X ((3, 4)) = shape Y ((4, 4)) \n",
      "[[29 37 21 40]\n",
      " [22 28 15 20]\n",
      " [ 7  9  5  9]\n",
      " [21 27 15 27]]\n"
     ]
    }
   ],
   "source": [
    "import numpy as np\n",
    "\n",
    "# a. Tạo hai ma trận A và B có 4 dòng x 3 cột, và ma trận X có 3 dòng x 4 cột\n",
    "A = np.random.randint(1, 6, (4, 3))\n",
    "B = np.random.randint(1, 6, (4, 3))\n",
    "X = np.random.randint(1, 6, (3, 4))\n",
    "\n",
    "# b. Tính tổng, hiệu, tích của từng phần tử trên hai ma trận A và B\n",
    "AB_add = A + B\n",
    "AB_sub = A - B\n",
    "AB_mul = A * B  # Phép nhân phần tử (element-wise multiplication)\n",
    "\n",
    "# c. Tính phép nhân ma trận Y = A x X\n",
    "Y = np.matmul(A, X)  # Phép nhân ma trận\n",
    "\n",
    "# In kết quả\n",
    "print(\"a. Tạo hai ma trận A và B có 4 dòng x 3 cột và X có 3 dòng x 4 cột\")\n",
    "print(f\"+ Ma trận A: \\n{A}\")\n",
    "print(f\"+ Ma trận B: \\n{B}\")\n",
    "print(f\"+ Ma trận X: \\n{X}\")\n",
    "\n",
    "print(\"\\nb. Tính tổng, hiệu, tích của từng phần tử trên hai ma trận A và B\")\n",
    "print(f\"A + B = \\n{AB_add}\")\n",
    "print(f\"A - B = \\n{AB_sub}\")\n",
    "print(f\"A . B (phép nhân từng phần tử) = \\n{AB_mul}\")\n",
    "\n",
    "print(\"\\nc. Tính phép nhân ma trận Y = A x X\")\n",
    "print(f\"Y = A x X --> shape A ({A.shape}) x shape X ({X.shape}) = shape Y ({Y.shape}) \\n{Y}\")\n"
   ]
  },
  {
   "cell_type": "markdown",
   "id": "44358204-e03c-45e3-b011-b4e824a4dc5b",
   "metadata": {},
   "source": [
    "4. Giải hệ phương trình tuyến tính\n",
    "\\begin{cases}\n",
    "4x_1 + 3x_2 - 5x_3 = 2 \\\\\n",
    "-2x_1 - 4x_2 + 5x_3 = 5 \\\\\n",
    "8x_1 + 8x_2 = -3\n",
    "\\end{cases}"
   ]
  },
  {
   "cell_type": "code",
   "execution_count": 14,
   "id": "dfbc8874-076d-4b3d-b43e-9ecce643db48",
   "metadata": {},
   "outputs": [
    {
     "name": "stdout",
     "output_type": "stream",
     "text": [
      "+ Ma trận A: \n",
      "[[ 4  3 -5]\n",
      " [-2 -4  5]\n",
      " [ 8  8  0]]\n",
      "+ Vector y: [ 2  5 -3]\n",
      "+ Nghiệm x (dùng np.linalg.solve): [ 2.20833333 -2.58333333 -0.18333333]\n",
      "+ Nghiệm x (dùng inv(A) * y): [ 2.20833333 -2.58333333 -0.18333333]\n",
      "+ Kiểm tra: yy = Ax = [ 2.  5. -3.] ==> ||yy - y||_2 = 0.00\n"
     ]
    }
   ],
   "source": [
    "import numpy as np\n",
    "\n",
    "# Khởi tạo ma trận A và vector y\n",
    "A = np.array([[4, 3, -5], [-2, -4, 5], [8, 8, 0]])\n",
    "y = np.array([2, 5, -3])\n",
    "\n",
    "# Cách 1: Sử dụng np.linalg.solve để giải hệ phương trình\n",
    "x = np.linalg.solve(A, y)\n",
    "\n",
    "# Cách 2: Giải bằng cách tính nghịch đảo ma trận (A^-1) rồi nhân với y\n",
    "A_inv = np.linalg.inv(A)\n",
    "x_inv = np.dot(A_inv, y)\n",
    "\n",
    "# Kiểm tra lại kết quả bằng cách nhân lại ma trận A với nghiệm x\n",
    "yy = np.matmul(A, x)\n",
    "diff = np.sqrt(np.sum((yy - y) ** 2))\n",
    "\n",
    "# In kết quả\n",
    "print(f\"+ Ma trận A: \\n{A}\")\n",
    "print(f\"+ Vector y: {y}\")\n",
    "print(f\"+ Nghiệm x (dùng np.linalg.solve): {x}\")\n",
    "print(f\"+ Nghiệm x (dùng inv(A) * y): {x_inv}\")\n",
    "print(f\"+ Kiểm tra: yy = Ax = {yy} ==> ||yy - y||_2 = {diff:.2f}\")"
   ]
  },
  {
   "cell_type": "markdown",
   "id": "6a82261f-3728-42c8-9c3c-d166559574e7",
   "metadata": {},
   "source": [
    "## Bài 3. Tính gần đúng số pi dùng phương pháp Monte Carlo\n",
    "\n",
    "Vẽ một đường tròn ( C ) có bán kính ( r ) nội tiếp một hình vuông ( C ), và đặt ngẫu nhiên ( N ) chấm lên hình vuông.\n",
    "Tỉ lệ các chấm nằm trong hình tròn trên tổng số chấm xấp xỉ bằng diện tích của hình tròn chia cho hình vuông như sau:\n",
    "\n",
    "$\n",
    "\\frac{N_C}{N} \\approx \\frac{S_C}{S_N}\n",
    "$\n",
    "\n",
    "nơi mà ( $N_C$) là các chấm trong hình tròn, ( N ) là tổng số chấm, ( $S_C$ ) và ( $S_N$) lần lượt là diện tích của hình tròn và hình vuông.\n",
    "\n",
    "$\n",
    "S_C = \\pi \\cdot r^2\n",
    "$\n",
    "$\n",
    "S_N = (2 \\cdot r)^2 = 4r^2\n",
    "$\n",
    "\n",
    "Do đó, công thức trên trở thành:\n",
    "$\n",
    "\\frac{N_C}{N} \\approx \\frac{\\pi \\cdot r^2}{4r^2} = \\frac{\\pi}{4}\n",
    "$\n",
    "\n",
    "Suy ra, ta có giá trị số ( $\\pi$ ) được tính như sau:\n",
    "\n",
    "$\n",
    "\\pi \\approx \\frac{4N_C}{N}\n",
    "$\n",
    "- Hướng dẫn: Viết chương trình phát sinh N điểm $(x_i, y_i)$với $x_i, y_i \\in [-1, 1]$. \n",
    "$(x_i, y_i)$ thuộc hình tròn tâm (0, 0) bán kính 1 nội tiếp hình vuông có tâm tại (0, 0) độ dài cạnh 2 khi và chỉ khi $ x_i^2 + y_i^2 \\leq 1.$\n"
   ]
  },
  {
   "cell_type": "markdown",
   "id": "3dc59f0b-6bd4-4cf4-b975-c28bf648097d",
   "metadata": {},
   "source": [
    "Hiển thị hình ảnh minh họa hình tròn tâm (0,0) bán kính 1 nội tiếp hình vuông tâm (0,0) có độ dài 2"
   ]
  },
  {
   "cell_type": "code",
   "execution_count": 16,
   "id": "f26184f0-d647-4410-acca-e99f077a20a9",
   "metadata": {},
   "outputs": [
    {
     "data": {
      "image/png": "[encoded data removed]",
      "text/plain": [
       "<Figure size 600x600 with 1 Axes>"
      ]
     },
     "metadata": {},
     "output_type": "display_data"
    }
   ],
   "source": [
    "import matplotlib.pyplot as plt # khai báo thư viện vẽ pyplot\n",
    "import math\n",
    "circle = plt.Circle((0, 0), 1, color='g') # tạo đối tượng vòng tròn\n",
    "fig, ax = plt.subplots(figsize=(6, 6)) # lấy figure và vùng vẽ\n",
    "plt.plot(0, 0, 'o', color=(0.9, 0.9, 1.0), alpha=0.8) # vẽ điểm tại tâm (0,0)\n",
    "ax.add_patch(circle) # thêm vòng tròn vào vùng vẽ\n",
    "x = 0.75; y = math.sqrt(1 - (x ** 2)) # (x = 0.75, y = căn bậc 2 của 1 - x^2)\n",
    "plt.arrow(0, 0, x, y)\n",
    "plt.xlim(-1, 1) # giới hạn trục x\n",
    "plt.ylim(-1, 1) # giới hạn trục y\n",
    "plt.savefig('pi.png') # lưu đồ thị xuống tập tin\n",
    "plt.show() # hiển thị đồ thị"
   ]
  },
  {
   "cell_type": "markdown",
   "id": "7994970b-f970-4780-909b-0e51e38d4d26",
   "metadata": {},
   "source": [
    "- Cài đặt hàm tính toán số π"
   ]
  },
  {
   "cell_type": "code",
   "execution_count": 17,
   "id": "6fa34cc7-c1ed-4202-9982-cd1583c8c77a",
   "metadata": {},
   "outputs": [
    {
     "name": "stdout",
     "output_type": "stream",
     "text": [
      "3.156\n"
     ]
    }
   ],
   "source": [
    "import numpy as np\n",
    "\n",
    "def calc_pi_monte_carlo(n=100):\n",
    "    \"\"\"\n",
    "    Hàm tính giá trị gần đúng của số Pi sử dụng phương pháp Monte Carlo.\n",
    "    n: số lượng điểm ngẫu nhiên cần phát sinh.\n",
    "    \"\"\"\n",
    "    # Phát sinh n cặp điểm (x, y) ngẫu nhiên với -1 <= x, y < 1\n",
    "    a = np.random.rand(n, 2) * 2 - 1  # Các giá trị ngẫu nhiên từ -1 đến 1\n",
    "\n",
    "    # Kiểm tra các điểm (x, y) có nằm trong hình tròn bán kính 1 không (x^2 + y^2 <= 1)\n",
    "    in_s = np.sum(a ** 2, axis=1) <= 1  # Tính x^2 + y^2 và kiểm tra điều kiện\n",
    "\n",
    "    # Tổng số điểm nằm trong hình tròn\n",
    "    n_s = np.sum(in_s)\n",
    "\n",
    "    # Tính số Pi gần đúng: Pi ≈ 4 * (số điểm trong hình tròn / tổng số điểm)\n",
    "    pi = 4 * n_s / n\n",
    "\n",
    "    return pi\n",
    "\n",
    "# Gọi hàm để tính Pi\n",
    "print(calc_pi_monte_carlo(10000))"
   ]
  },
  {
   "cell_type": "markdown",
   "id": "5d6f59b1-e996-43d9-86e0-2c5513accfa8",
   "metadata": {},
   "source": [
    "- Kiểm tra hàm tính toán số π"
   ]
  },
  {
   "cell_type": "code",
   "execution_count": 19,
   "id": "a266303b-44d8-4726-99dc-6238f1eba966",
   "metadata": {},
   "outputs": [
    {
     "name": "stdout",
     "output_type": "stream",
     "text": [
      "epsilon(n=100):  -0.18159265358979315\n",
      "epsilon(n=100):  0.018407346410207026\n",
      "epsilon(n=10000):  0.011607346410206887\n",
      "epsilon(n=10000):  -0.007592653589793219\n",
      "epsilon(n=1000000):  -0.0015326535897930427\n",
      "epsilon(n=1000000):  4.734641020709418e-05\n"
     ]
    }
   ],
   "source": [
    "import math\n",
    "print(\"epsilon(n=100): \", calc_pi_monte_carlo(n = 100) - math.pi)\n",
    "print(\"epsilon(n=100): \", calc_pi_monte_carlo(n = 100) - math.pi)\n",
    "print(\"epsilon(n=10000): \", calc_pi_monte_carlo(n = 10000) - math.pi)\n",
    "print(\"epsilon(n=10000): \", calc_pi_monte_carlo(n = 10000) - math.pi)\n",
    "print(\"epsilon(n=1000000): \", calc_pi_monte_carlo(n = 1000000) - math.pi)\n",
    "print(\"epsilon(n=1000000): \", calc_pi_monte_carlo(n = 1000000) - math.pi)\n",
    "# epsilon(n=100): 0.0984073464102071\n",
    "# epsilon(n=100): -0.061592653589793045\n",
    "# epsilon(n=10000): -0.04559265358979303\n",
    "# epsilon(n=10000): -0.009192653589793043\n",
    "# epsilon(n=1000000): -0.0020086535897929636\n",
    "# epsilon(n=1000000): -0.0008486535897929137"
   ]
  },
  {
   "cell_type": "code",
   "execution_count": null,
   "id": "fe52cf7c-6caf-45c6-9b9a-0444d1a645cb",
   "metadata": {},
   "outputs": [],
   "source": []
  }
 ],
 "metadata": {
  "kernelspec": {
   "display_name": "Python 3 (ipykernel)",
   "language": "python",
   "name": "python3"
  },
  "language_info": {
   "codemirror_mode": {
    "name": "ipython",
    "version": 3
   },
   "file_extension": ".py",
   "mimetype": "text/x-python",
   "name": "python",
   "nbconvert_exporter": "python",
   "pygments_lexer": "ipython3",
   "version": "3.12.5"
  }
 },
 "nbformat": 4,
 "nbformat_minor": 5
}
