{
 "cells": [
  {
   "cell_type": "markdown",
   "id": "eac7978e-e875-48ec-8e3a-21ba70c70d2f",
   "metadata": {},
   "source": [
    "# Data prepareration"
   ]
  },
  {
   "cell_type": "markdown",
   "id": "c8a611cf-4a96-470f-bb0c-9ffc42060b14",
   "metadata": {},
   "source": [
    "### 7.3 Rescale data (between 0 and 1)"
   ]
  },
  {
   "cell_type": "code",
   "execution_count": 29,
   "id": "9b3fe03f-661e-47f0-9678-a3cac224c8e4",
   "metadata": {},
   "outputs": [
    {
     "name": "stdout",
     "output_type": "stream",
     "text": [
      "[[1.    0.    0.998 0.471 0.926 0.512 0.917 0.311 1.    0.519 0.926 0.411\n",
      "  0.799 0.275 0.803 0.309 0.922 0.307 0.791 0.339 0.785 0.352 0.685 0.263\n",
      "  0.784 0.244 0.705 0.269 0.606 0.33  0.711 0.228 0.593 0.273]\n",
      " [1.    0.    1.    0.406 0.965 0.319 0.446 0.032 1.    0.477 0.754 0.161\n",
      "  0.672 0.151 0.242 0.012 0.527 0.189 0.666 0.    0.434 0.273 0.41  0.321\n",
      "  0.398 0.367 0.398 0.408 0.405 0.442 0.417 0.469 0.431 0.488]\n",
      " [1.    0.    1.    0.483 1.    0.502 1.    0.44  0.945 0.506 0.865 0.527\n",
      "  0.927 0.504 0.773 0.501 0.919 0.432 0.878 0.457 0.854 0.362 0.717 0.44\n",
      "  0.788 0.299 0.795 0.389 0.716 0.413 0.802 0.379 0.78  0.309]\n",
      " [1.    0.    1.    0.274 1.    1.    0.856 0.    0.5   0.5   0.5   0.5\n",
      "  0.5   0.5   0.    0.573 0.77  0.303 0.    0.228 0.15  1.    0.5   0.5\n",
      "  1.    0.953 0.758 1.    1.    0.4   0.628 1.    0.338 1.   ]\n",
      " [1.    0.    1.    0.488 0.971 0.533 0.961 0.384 0.886 0.418 0.764 0.399\n",
      "  0.782 0.496 0.672 0.363 0.765 0.391 0.726 0.411 0.53  0.322 0.512 0.236\n",
      "  0.516 0.174 0.566 0.234 0.512 0.189 0.471 0.202 0.477 0.172]]\n"
     ]
    }
   ],
   "source": [
    "# Rescale data (between 0 and 1)\n",
    "from pandas import read_csv\n",
    "from numpy import set_printoptions\n",
    "from sklearn.preprocessing import MinMaxScaler\n",
    "filename = 'ionosphere.csv'\n",
    "names = ['a1', 'a2', 'a3', 'a4', 'a5', 'a6', 'a7', 'a8', 'a9', 'a10', 'a11', 'a12', 'a13', 'a14', 'a15', 'a16',\n",
    "         'a17', 'a18', 'a19', 'a20', 'a21', 'a22', 'a23', 'a24', 'a25', 'a26', 'a27', 'a28', 'a29', 'a30', 'a31', 'a32',\n",
    "         'a33', 'a34', 'label']\n",
    "dataframe = read_csv(filename, names=names)\n",
    "array = dataframe.values\n",
    "# separate array into input and output components\n",
    "X = array[:,0:34]\n",
    "Y = array[:,34]\n",
    "scaler = MinMaxScaler(feature_range=(0, 1))\n",
    "rescaledX = scaler.fit_transform(X)\n",
    "# summarize transformed data\n",
    "set_printoptions(precision=3)\n",
    "\n",
    "print(rescaledX[0:5,:])"
   ]
  },
  {
   "cell_type": "markdown",
   "id": "01795cd9-33d2-428c-950f-a5494415223b",
   "metadata": {},
   "source": [
    "### 7.4 Standardize data (0 mean, 1 stdev)"
   ]
  },
  {
   "cell_type": "code",
   "execution_count": 13,
   "id": "0576d2c3-fba4-439f-83d5-9522ffad9fdb",
   "metadata": {},
   "outputs": [
    {
     "name": "stdout",
     "output_type": "stream",
     "text": [
      "[[ 3.484e-01  0.000e+00  7.124e-01 -2.343e-01  4.842e-01 -2.017e-01\n",
      "   5.771e-01 -9.547e-01  9.641e-01 -2.975e-01  6.687e-01 -6.731e-01\n",
      "   3.167e-01 -1.099e+00  4.007e-01 -9.905e-01  7.480e-01 -7.697e-01\n",
      "   3.562e-01 -5.747e-01  3.826e-01 -5.895e-01  1.158e-02 -7.901e-01\n",
      "   2.977e-01 -8.676e-01 -2.539e-01 -7.140e-01 -2.883e-01 -6.170e-01\n",
      "   1.229e-01 -1.055e+00 -3.122e-01 -9.996e-01]\n",
      " [ 3.484e-01  0.000e+00  7.216e-01 -5.278e-01  6.343e-01 -1.038e+00\n",
      "  -1.339e+00 -2.029e+00  9.641e-01 -4.695e-01  5.786e-02 -1.685e+00\n",
      "  -9.091e-02 -1.600e+00 -1.321e+00 -2.286e+00 -5.298e-01 -1.247e+00\n",
      "  -4.525e-02 -1.883e+00 -7.689e-01 -8.915e-01 -9.007e-01 -5.695e-01\n",
      "  -1.038e+00 -3.831e-01 -1.448e+00 -2.084e-01 -9.892e-01 -1.735e-01\n",
      "  -9.091e-01 -1.152e-01 -9.326e-01 -8.329e-02]\n",
      " [ 3.484e-01  0.000e+00  7.216e-01 -1.770e-01  7.685e-01 -2.413e-01\n",
      "   9.145e-01 -4.615e-01  7.461e-01 -3.505e-01  4.525e-01 -2.056e-01\n",
      "   7.301e-01 -1.723e-01  3.095e-01 -1.489e-01  7.386e-01 -2.678e-01\n",
      "   6.332e-01 -1.184e-01  6.112e-01 -5.475e-01  1.184e-01 -1.200e-01\n",
      "   3.101e-01 -6.519e-01  9.351e-02 -2.766e-01  9.139e-02 -2.873e-01\n",
      "   4.413e-01 -4.641e-01  4.044e-01 -8.486e-01]\n",
      " [ 3.484e-01  0.000e+00  7.216e-01 -1.125e+00  7.685e-01  1.921e+00\n",
      "   3.294e-01 -2.153e+00 -1.011e+00 -3.753e-01 -8.463e-01 -3.138e-01\n",
      "  -6.451e-01 -1.890e-01 -2.062e+00  1.617e-01  2.576e-01 -7.856e-01\n",
      "  -2.174e+00 -1.004e+00 -1.702e+00  1.917e+00 -6.012e-01  1.090e-01\n",
      "   1.045e+00  1.926e+00 -4.949e-02  1.947e+00  1.081e+00 -3.412e-01\n",
      "  -1.677e-01  1.957e+00 -1.290e+00  2.107e+00]\n",
      " [ 3.484e-01  0.000e+00  7.216e-01 -1.551e-01  6.556e-01 -1.099e-01\n",
      "   7.541e-01 -6.767e-01  5.128e-01 -7.147e-01  9.205e-02 -7.241e-01\n",
      "   2.628e-01 -2.034e-01 -3.208e-04 -7.553e-01  2.389e-01 -4.318e-01\n",
      "   1.466e-01 -2.973e-01 -4.547e-01 -7.036e-01 -5.629e-01 -8.950e-01\n",
      "  -6.289e-01 -1.143e+00 -7.929e-01 -8.421e-01 -6.158e-01 -1.171e+00\n",
      "  -7.177e-01 -1.154e+00 -7.577e-01 -1.436e+00]]\n"
     ]
    }
   ],
   "source": [
    "# Standardize data (0 mean, 1 stdev)\n",
    "from sklearn.preprocessing import StandardScaler\n",
    "from pandas import read_csv\n",
    "from numpy import set_printoptions\n",
    "filename = 'ionosphere.csv'\n",
    "names = ['a1', 'a2', 'a3', 'a4', 'a5', 'a6', 'a7', 'a8', 'a9', 'a10', 'a11', 'a12', 'a13', 'a14', 'a15', 'a16',\n",
    "         'a17', 'a18', 'a19', 'a20', 'a21', 'a22', 'a23', 'a24', 'a25', 'a26', 'a27', 'a28', 'a29', 'a30', 'a31', 'a32',\n",
    "         'a33', 'a34','label']\n",
    "dataframe = read_csv(filename, names=names)\n",
    "array = dataframe.values\n",
    "# separate array into input and output components\n",
    "X = array[:,0:34]\n",
    "Y = array[:,34]\n",
    "scaler = StandardScaler().fit(X)\n",
    "rescaledX = scaler.transform(X)\n",
    "# summarize transformed data\n",
    "set_printoptions(precision=3)\n",
    "print(rescaledX[0:5,:])"
   ]
  },
  {
   "cell_type": "markdown",
   "id": "790d1e31-5ac7-4ca3-9b4b-50e697d45642",
   "metadata": {},
   "source": [
    "### 7.5 Normalize data (length of 1)"
   ]
  },
  {
   "cell_type": "code",
   "execution_count": 15,
   "id": "962e00d2-6bd4-42b7-88c4-a324fa14362b",
   "metadata": {},
   "outputs": [
    {
     "name": "stdout",
     "output_type": "stream",
     "text": [
      "[[ 0.311  0.     0.31  -0.018  0.265  0.007  0.26  -0.117  0.311  0.012\n",
      "   0.265 -0.055  0.186 -0.14   0.189 -0.119  0.263 -0.12   0.181 -0.1\n",
      "   0.177 -0.092  0.115 -0.147  0.177 -0.159  0.128 -0.144  0.066 -0.106\n",
      "   0.132 -0.17   0.058 -0.141]\n",
      " [ 0.322  0.     0.322 -0.061  0.3   -0.116 -0.035 -0.302  0.322 -0.015\n",
      "   0.164 -0.218  0.111 -0.225 -0.167 -0.314  0.018 -0.201  0.107 -0.322\n",
      "  -0.042 -0.146 -0.058 -0.115 -0.066 -0.086 -0.066 -0.059 -0.061 -0.037\n",
      "  -0.054 -0.02  -0.044 -0.008]\n",
      " [ 0.309  0.     0.309 -0.01   0.309  0.002  0.309 -0.037  0.275  0.004\n",
      "   0.226  0.017  0.264  0.003  0.169  0.001  0.259 -0.042  0.234 -0.026\n",
      "   0.219 -0.085  0.134 -0.037  0.178 -0.124  0.183 -0.069  0.133 -0.054\n",
      "   0.187 -0.075  0.173 -0.118]\n",
      " [ 0.248  0.     0.248 -0.112  0.248  0.248  0.177 -0.248  0.     0.\n",
      "   0.     0.     0.     0.    -0.248  0.036  0.134 -0.098 -0.248 -0.135\n",
      "  -0.174  0.248  0.     0.     0.248  0.225  0.128  0.248  0.248 -0.05\n",
      "   0.064  0.248 -0.08   0.248]\n",
      " [ 0.351  0.     0.351 -0.008  0.33   0.023  0.323 -0.082  0.271 -0.058\n",
      "   0.185 -0.071  0.198 -0.002  0.121 -0.096  0.186 -0.076  0.158 -0.062\n",
      "   0.021 -0.125  0.008 -0.185  0.012 -0.229  0.047 -0.187  0.009 -0.218\n",
      "  -0.02  -0.209 -0.016 -0.23 ]]\n"
     ]
    }
   ],
   "source": [
    "# Normalize data (length of 1)\n",
    "from sklearn.preprocessing import Normalizer\n",
    "from pandas import read_csv\n",
    "from numpy import set_printoptions\n",
    "filename = 'ionosphere.csv'\n",
    "names = ['a1', 'a2', 'a3', 'a4', 'a5', 'a6', 'a7', 'a8', 'a9', 'a10', 'a11', 'a12', 'a13', 'a14', 'a15', 'a16',\n",
    "         'a17', 'a18', 'a19', 'a20', 'a21', 'a22', 'a23', 'a24', 'a25', 'a26', 'a27', 'a28', 'a29', 'a30', 'a31', 'a32',\n",
    "         'a33', 'a34','label']\n",
    "dataframe = read_csv(filename, names=names)\n",
    "array = dataframe.values\n",
    "# separate array into input and output components\n",
    "X = array[:,0:34]\n",
    "Y = array[:,34]\n",
    "scaler = Normalizer().fit(X)\n",
    "normalizedX = scaler.transform(X)\n",
    "# summarize transformed data\n",
    "set_printoptions(precision=3)\n",
    "print(normalizedX[0:5,:])"
   ]
  },
  {
   "cell_type": "markdown",
   "id": "0648bbe0-dddd-4b45-b14f-9b29fbba93b9",
   "metadata": {},
   "source": [
    "### 7.6 Binarize Data"
   ]
  },
  {
   "cell_type": "code",
   "execution_count": 16,
   "id": "3c11f19e-b359-492d-b46e-c3c0b6217fb2",
   "metadata": {},
   "outputs": [
    {
     "name": "stdout",
     "output_type": "stream",
     "text": [
      "[[1. 0. 1. 0. 1. 1. 1. 0. 1. 1. 1. 0. 1. 0. 1. 0. 1. 0. 1. 0. 1. 0. 1. 0.\n",
      "  1. 0. 1. 0. 1. 0. 1. 0. 1. 0.]\n",
      " [1. 0. 1. 0. 1. 0. 0. 0. 1. 0. 1. 0. 1. 0. 0. 0. 1. 0. 1. 0. 0. 0. 0. 0.\n",
      "  0. 0. 0. 0. 0. 0. 0. 0. 0. 0.]\n",
      " [1. 0. 1. 0. 1. 1. 1. 0. 1. 1. 1. 1. 1. 1. 1. 1. 1. 0. 1. 0. 1. 0. 1. 0.\n",
      "  1. 0. 1. 0. 1. 0. 1. 0. 1. 0.]\n",
      " [1. 0. 1. 0. 1. 1. 1. 0. 0. 0. 0. 0. 0. 0. 0. 1. 1. 0. 0. 0. 0. 1. 0. 0.\n",
      "  1. 1. 1. 1. 1. 0. 1. 1. 0. 1.]\n",
      " [1. 0. 1. 0. 1. 1. 1. 0. 1. 0. 1. 0. 1. 0. 1. 0. 1. 0. 1. 0. 1. 0. 1. 0.\n",
      "  1. 0. 1. 0. 1. 0. 0. 0. 0. 0.]]\n"
     ]
    }
   ],
   "source": [
    "# binarization\n",
    "from sklearn.preprocessing import Binarizer\n",
    "from pandas import read_csv\n",
    "from numpy import set_printoptions\n",
    "\n",
    "filename = 'ionosphere.csv'\n",
    "names = ['a1', 'a2', 'a3', 'a4', 'a5', 'a6', 'a7', 'a8', 'a9', 'a10', 'a11', 'a12', 'a13', 'a14', 'a15', 'a16',\n",
    "         'a17', 'a18', 'a19', 'a20', 'a21', 'a22', 'a23', 'a24', 'a25', 'a26', 'a27', 'a28', 'a29', 'a30', 'a31', 'a32',\n",
    "         'a33', 'a34', 'label']\n",
    "dataframe = read_csv(filename, names=names)\n",
    "array = dataframe.values\n",
    "# separate array into input and output components\n",
    "X = array[:,0:34]\n",
    "Y = array[:,34]\n",
    "binarizer = Binarizer(threshold=0.0).fit(X)\n",
    "binaryX = binarizer.transform(X)\n",
    "# summarize transformed data\n",
    "set_printoptions(precision=3)\n",
    "print(binaryX[0:5,:])"
   ]
  },
  {
   "cell_type": "markdown",
   "id": "293a761d-4694-48f5-9ab3-0f989c4e0f1d",
   "metadata": {},
   "source": [
    "# Feature Selection"
   ]
  },
  {
   "cell_type": "markdown",
   "id": "0207fc06-9f89-4b44-be2a-1392ecbdebc3",
   "metadata": {},
   "source": [
    "## 8.2 Univariate Selection"
   ]
  },
  {
   "cell_type": "code",
   "execution_count": 45,
   "id": "33c4dc89-5bfd-40d3-9f47-b81c8a173024",
   "metadata": {
    "scrolled": true
   },
   "outputs": [
    {
     "name": "stdout",
     "output_type": "stream",
     "text": [
      "[8.238e+00       nan 1.818e+01 5.074e+00 1.947e+01 5.049e-01 1.551e+01\n",
      " 1.237e-01 7.782e+00 9.317e-03 3.462e+00 1.027e-01 6.568e+00 3.284e-02\n",
      " 1.142e+01 1.574e-03 2.884e+00 5.274e-01 2.642e+00 4.367e+00 8.839e+00\n",
      " 7.965e+00 4.903e+00 5.275e+00 3.260e+00 4.046e+00 2.377e+00 1.175e+01\n",
      " 4.779e+00 2.995e+00 7.434e+00 5.693e+00 9.689e+00 2.293e+00]\n",
      "[[0.99539 0.85243 0.83398 0]\n",
      " [1.0 0.93035 0 0]\n",
      " [1.0 1.0 1.0 0]\n",
      " [1.0 1.0 0.71216 1.0]\n",
      " [1.0 0.9414 0.92106 0]]\n"
     ]
    }
   ],
   "source": [
    "from pandas import read_csv\n",
    "from numpy import set_printoptions\n",
    "from sklearn.feature_selection import SelectKBest\n",
    "from sklearn.feature_selection import chi2\n",
    "import numpy as np\n",
    "\n",
    "# load data\n",
    "filename = 'ionosphere.csv'\n",
    "names = ['a1', 'a2', 'a3', 'a4', 'a5', 'a6', 'a7', 'a8', 'a9', 'a10', 'a11', 'a12', 'a13', 'a14', 'a15', 'a16',\n",
    "         'a17', 'a18', 'a19', 'a20', 'a21', 'a22', 'a23', 'a24', 'a25', 'a26', 'a27', 'a28', 'a29', 'a30', 'a31', 'a32',\n",
    "         'a33', 'a34', ' label']\n",
    "dataframe = read_csv(filename, names=names)\n",
    "array = dataframe.values\n",
    "X = array[:,0:34]\n",
    "Y = array[:,34]\n",
    "\n",
    "# Ensure all values are non-negative\n",
    "X = np.where(X < 0, 0, X)\n",
    "# feature extraction\n",
    "test = SelectKBest(score_func=chi2, k=4)\n",
    "fit = test.fit(X, Y)\n",
    "\n",
    "# summarize scores\n",
    "set_printoptions(precision=3)\n",
    "print(fit.scores_)\n",
    "features = fit.transform(X)\n",
    "\n",
    "# summarize selected features\n",
    "print(features[0:5,:])\n"
   ]
  },
  {
   "cell_type": "markdown",
   "id": "bc7b65a8-0ee0-4c97-ae67-9fb9a838918f",
   "metadata": {},
   "source": [
    "## 8.3 Recursive Feature Elimination"
   ]
  },
  {
   "cell_type": "code",
   "execution_count": 32,
   "id": "2338d2c3-b83c-4f75-93e4-1a8da76f050a",
   "metadata": {},
   "outputs": [
    {
     "name": "stdout",
     "output_type": "stream",
     "text": [
      "Num Features: 10\n",
      "Selected Features: [ True False  True False  True  True  True  True False False False False\n",
      " False False False False False False False False False  True False False\n",
      " False False  True False False  True False False False  True]\n",
      "Feature Ranking: [ 1 25  1 15  1  1  1  1  6 17  9 18 20  4 12 22 23 10  7 24 21  1  5 11\n",
      "  3  8  1 19 14  1  2 13 16  1]\n"
     ]
    }
   ],
   "source": [
    "from pandas import read_csv\n",
    "from sklearn.feature_selection import RFE\n",
    "from sklearn.linear_model import LogisticRegression\n",
    "\n",
    "# Load data\n",
    "filename = 'ionosphere.csv'\n",
    "names = ['a1', 'a2', 'a3', 'a4', 'a5', 'a6', 'a7', 'a8', 'a9', 'a10', 'a11', 'a12', 'a13', 'a14', 'a15', 'a16',\n",
    "         'a17', 'a18', 'a19', 'a20', 'a21', 'a22', 'a23', 'a24', 'a25', 'a26', 'a27', 'a28', 'a29', 'a30', 'a31', 'a32',\n",
    "         'a33', 'a34', 'label']\n",
    "dataframe = read_csv(filename, names=names)\n",
    "array = dataframe.values\n",
    "X = array[:,0:34]\n",
    "Y = array[:,34]\n",
    "\n",
    "# Feature extraction\n",
    "model = LogisticRegression()\n",
    "rfe = RFE(estimator = model, n_features_to_select = 10)\n",
    "fit = rfe.fit(X, Y)\n",
    "\n",
    "print(\"Num Features: %d\" % fit.n_features_)\n",
    "print(\"Selected Features: %s\" % fit.support_)\n",
    "print(\"Feature Ranking: %s\" % fit.ranking_)\n"
   ]
  },
  {
   "cell_type": "markdown",
   "id": "46d55ac8-66e4-4128-9fb2-3430de282135",
   "metadata": {},
   "source": [
    "## 8.4 Principal Component Analysis"
   ]
  },
  {
   "cell_type": "code",
   "execution_count": 39,
   "id": "882d482b-f763-4b52-bad4-22559599a21a",
   "metadata": {},
   "outputs": [
    {
     "name": "stdout",
     "output_type": "stream",
     "text": [
      "Explained Variance: [0.313 0.123 0.075 0.069 0.049 0.037 0.03  0.029]\n",
      "[[-2.326e-02  2.220e-16 -1.014e-01  7.201e-02 -1.511e-01  7.641e-02\n",
      "  -1.762e-01  1.428e-01 -2.072e-01  1.316e-01 -2.511e-01  1.118e-01\n",
      "  -2.928e-01  8.543e-02 -3.285e-01  7.233e-02 -3.017e-01  1.316e-02\n",
      "  -3.006e-01  2.284e-03 -3.001e-01 -5.940e-02 -2.759e-01 -2.073e-02\n",
      "  -2.278e-01 -3.937e-02 -1.640e-01 -5.931e-02 -2.063e-01 -1.905e-02\n",
      "  -2.064e-01 -2.009e-02 -2.002e-01  1.748e-02]\n",
      " [ 6.356e-03 -4.857e-17  7.767e-02  4.604e-02  8.073e-02 -1.696e-02\n",
      "   8.410e-02  6.257e-02  8.922e-02  6.508e-02  1.105e-01  1.236e-01\n",
      "   1.215e-01  1.815e-01  1.169e-01  1.993e-01  3.903e-02  2.670e-01\n",
      "   2.360e-02  3.624e-01 -4.929e-02  3.419e-01 -4.280e-02  3.080e-01\n",
      "  -1.201e-01  2.940e-01 -1.091e-01  3.250e-01 -1.545e-01  2.564e-01\n",
      "  -1.807e-01  1.735e-01 -1.441e-01  1.450e-01]\n",
      " [ 8.183e-02 -2.776e-16  3.049e-01  1.487e-01  2.777e-01  2.103e-01\n",
      "   1.785e-01  3.467e-01 -1.419e-02  2.520e-01 -7.953e-02  2.665e-01\n",
      "  -9.484e-02  1.983e-01 -9.838e-02  1.743e-01 -1.678e-01  2.067e-02\n",
      "  -9.580e-02 -3.509e-02  4.549e-03 -1.027e-01  1.008e-01 -8.257e-02\n",
      "   1.784e-01 -1.328e-01  4.694e-02  1.035e-01  2.836e-01  3.734e-02\n",
      "   2.542e-01  1.390e-01  2.166e-01  1.839e-01]\n",
      " [-9.900e-02 -3.331e-16 -1.830e-01 -4.217e-02 -2.221e-01  4.613e-02\n",
      "  -2.514e-01  5.410e-02 -1.828e-01 -6.569e-02 -1.024e-01 -1.464e-01\n",
      "  -1.873e-01 -2.259e-01 -1.420e-01 -5.463e-02  1.516e-02 -6.581e-02\n",
      "   1.014e-01 -9.044e-02  3.951e-02 -1.297e-02  1.776e-01 -1.674e-02\n",
      "   2.070e-01  1.461e-01  2.716e-01  2.835e-01  1.436e-01  2.431e-01\n",
      "  -2.439e-02  4.203e-01 -9.008e-02  3.441e-01]\n",
      " [-1.213e-01 -3.331e-16  5.984e-03  4.349e-01  4.800e-02 -4.320e-01\n",
      "  -7.240e-02  2.748e-02 -1.385e-01  3.848e-02  3.914e-02  1.397e-01\n",
      "   7.423e-02  3.054e-02  3.970e-02 -4.050e-02  3.824e-02 -3.663e-01\n",
      "  -1.294e-01 -1.045e-03 -1.007e-01  3.569e-02  1.502e-01  2.746e-01\n",
      "   8.578e-02 -2.457e-01  1.838e-01  2.273e-03  2.415e-02  3.339e-01\n",
      "  -2.683e-02 -2.420e-01 -1.185e-01 -3.413e-02]\n",
      " [ 9.751e-03 -1.978e-16 -3.694e-01  1.957e-03  2.922e-02  6.590e-02\n",
      "   2.332e-01  1.085e-01 -3.133e-01 -8.115e-02 -2.882e-01  1.690e-02\n",
      "   3.044e-01  9.647e-02  2.226e-01 -7.646e-02 -2.104e-01 -1.733e-01\n",
      "  -1.805e-01  8.895e-02  3.383e-01 -9.718e-02  6.277e-02  2.038e-02\n",
      "  -1.730e-01  1.693e-01  1.698e-03 -1.134e-01 -2.150e-01  9.919e-02\n",
      "   1.031e-01  8.626e-02  2.191e-01  1.003e-01]\n",
      " [ 1.523e-01 -3.053e-16  1.537e-01  1.770e-01 -4.001e-01 -2.513e-02\n",
      "  -2.496e-02  6.859e-02  3.977e-02 -1.794e-01 -1.436e-01  1.077e-01\n",
      "   4.230e-02  1.972e-01  2.796e-02 -7.651e-02  6.268e-02  6.569e-02\n",
      "   2.654e-01  3.568e-01  1.407e-01 -2.066e-01 -3.283e-01 -1.613e-01\n",
      "   2.066e-01 -4.045e-03  2.439e-02 -2.383e-01  1.592e-01  1.831e-01\n",
      "  -1.994e-01 -1.082e-01  6.152e-02  1.611e-01]\n",
      " [ 9.967e-02 -1.110e-16 -1.502e-01 -1.350e-01 -1.330e-01 -1.085e-01\n",
      "  -5.403e-03  2.573e-01  1.660e-01  1.665e-01 -1.909e-02  2.571e-01\n",
      "  -7.189e-03 -1.091e-01  2.136e-01  1.145e-01  8.232e-02 -1.130e-01\n",
      "   1.474e-01 -3.308e-01  1.622e-01 -3.501e-01 -2.342e-01  3.626e-01\n",
      "   1.634e-01  4.551e-02 -2.151e-01  1.849e-01 -8.767e-02 -1.391e-01\n",
      "   3.023e-02 -4.373e-02 -1.784e-01  6.566e-02]]\n"
     ]
    }
   ],
   "source": [
    "\n",
    "# Feature Extraction with PCA\n",
    "from pandas import read_csv\n",
    "from sklearn.decomposition import PCA\n",
    "# Load data\n",
    "filename = 'ionosphere.csv'\n",
    "names = ['a1', 'a2', 'a3', 'a4', 'a5', 'a6', 'a7', 'a8', 'a9', 'a10', 'a11', 'a12', 'a13', 'a14', 'a15', 'a16',\n",
    "         'a17', 'a18', 'a19', 'a20', 'a21', 'a22', 'a23', 'a24', 'a25', 'a26', 'a27', 'a28', 'a29', 'a30', 'a31', 'a32',\n",
    "         'a33', 'a34', 'label']\n",
    "dataframe = read_csv(filename, names=names)\n",
    "array = dataframe.values\n",
    "X = array[:,0:34]\n",
    "Y = array[:,34]\n",
    "\n",
    "# feature extraction\n",
    "pca = PCA(n_components=8)\n",
    "fit = pca.fit(X)\n",
    "# summarize components\n",
    "print(\"Explained Variance: %s\" % fit.explained_variance_ratio_)\n",
    "print(fit.components_)"
   ]
  },
  {
   "cell_type": "markdown",
   "id": "1203be88-6b10-4ffb-bbd0-06709143d1b1",
   "metadata": {},
   "source": [
    "## 8.5 Feature Importance"
   ]
  },
  {
   "cell_type": "code",
   "execution_count": 26,
   "id": "42c760d2-bd24-418b-93ec-8176b422861a",
   "metadata": {},
   "outputs": [
    {
     "name": "stdout",
     "output_type": "stream",
     "text": [
      "[0.084 0.    0.078 0.051 0.096 0.035 0.065 0.047 0.023 0.025 0.014 0.028\n",
      " 0.025 0.03  0.023 0.027 0.021 0.02  0.014 0.02  0.025 0.016 0.022 0.022\n",
      " 0.017 0.016 0.022 0.022 0.025 0.013 0.026 0.013 0.019 0.016]\n"
     ]
    }
   ],
   "source": [
    "# Feature Importance with Extra Trees Classifier\n",
    "from pandas import read_csv\n",
    "from sklearn.ensemble import ExtraTreesClassifier\n",
    "# load data\n",
    "filename = 'ionosphere.csv'\n",
    "names = ['a1', 'a2', 'a3', 'a4', 'a5', 'a6', 'a7', 'a8', 'a9', 'a10', 'a11', 'a12', 'a13', 'a14', 'a15', 'a16',\n",
    "         'a17', 'a18', 'a19', 'a20', 'a21', 'a22', 'a23', 'a24', 'a25', 'a26', 'a27', 'a28', 'a29', 'a30', 'a31', 'a32',\n",
    "         'a33', 'a34', 'label']\n",
    "dataframe = read_csv(filename, names=names)\n",
    "array = dataframe.values\n",
    "X = array[:,0:34]\n",
    "Y = array[:,34]\n",
    "# feature extraction\n",
    "model = ExtraTreesClassifier()\n",
    "model.fit(X, Y)\n",
    "print(model.feature_importances_)"
   ]
  },
  {
   "cell_type": "code",
   "execution_count": null,
   "id": "0e25f5ca-bb34-4a98-824d-711a510dc4f5",
   "metadata": {},
   "outputs": [],
   "source": []
  }
 ],
 "metadata": {
  "kernelspec": {
   "display_name": "Python 3 (ipykernel)",
   "language": "python",
   "name": "python3"
  },
  "language_info": {
   "codemirror_mode": {
    "name": "ipython",
    "version": 3
   },
   "file_extension": ".py",
   "mimetype": "text/x-python",
   "name": "python",
   "nbconvert_exporter": "python",
   "pygments_lexer": "ipython3",
   "version": "3.12.4"
  }
 },
 "nbformat": 4,
 "nbformat_minor": 5
}
