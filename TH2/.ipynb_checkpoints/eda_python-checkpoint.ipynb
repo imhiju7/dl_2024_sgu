{
 "cells": [
  {
   "cell_type": "markdown",
   "id": "4e2a0ca2-d28a-47a2-ad35-22c4e4d8ae0f",
   "metadata": {},
   "source": [
    "<h1>Exploratory Data Analysis (EDA) in Python </h1>"
   ]
  },
  {
   "cell_type": "markdown",
   "id": "6a884b97-67f6-4256-a66a-b2db0bcab67b",
   "metadata": {},
   "source": [
    "# **Introduction**"
   ]
  },
  {
   "cell_type": "markdown",
   "id": "f60c386f-6bfb-453c-920f-e28993e38de3",
   "metadata": {},
   "source": [
    "## **Mô tả**:\n",
    "- Dữ liệu Pima Indians Diabetes là một tập dữ liệu nổi tiếng trong lĩnh vực học máy và y tế. Tập dữ liệu này chứa thông tin về 768 phụ nữ từ một cộng đồng người Pima sống gần Phoenix, Arizona, Hoa Kỳ. Mục tiêu của tập dữ liệu là dự đoán khả năng mắc bệnh tiểu đường dựa trên các chỉ số chẩn đoán\n",
    "- Dưới đây là các thuộc tính gốc trong tập dữ liệu Pima Indians Diabetes:\n",
    "    + Pregnancies: Số lần mang thai.\n",
    "    + Glucose: Nồng độ glucose trong máu.\n",
    "    + BloodPressure: Huyết áp (mm Hg).\n",
    "    + SkinThickness: Độ dày da (mm).\n",
    "    + Insulin: Nồng độ insulin (mu U/ml).\n",
    "    + BMI: Chỉ số khối cơ thể (kg/m²).\n",
    "    + DiabetesPedigreeFunction: Chức năng phả hệ bệnh tiểu đường.\n",
    "    + Age: Tuổi (năm).\n",
    "    + Outcome: Kết quả (1 nếu mắc bệnh tiểu đường, 0 nếu không mắc)."
   ]
  },
  {
   "cell_type": "markdown",
   "id": "fd146dfd-2b87-4546-9b17-d968897abadc",
   "metadata": {},
   "source": [
    "## Load dataset"
   ]
  },
  {
   "cell_type": "markdown",
   "id": "e714fb88-5453-4e8a-b1b5-0e6b1a59db48",
   "metadata": {},
   "source": [
    "import pandas as pd\n",
    "import matplotlib.pyplot as plt\n",
    "import seaborn as sns \n",
    "import numpy as np"
   ]
  }
 ],
 "metadata": {
  "kernelspec": {
   "display_name": "Python 3 (ipykernel)",
   "language": "python",
   "name": "python3"
  },
  "language_info": {
   "codemirror_mode": {
    "name": "ipython",
    "version": 3
   },
   "file_extension": ".py",
   "mimetype": "text/x-python",
   "name": "python",
   "nbconvert_exporter": "python",
   "pygments_lexer": "ipython3",
   "version": "3.12.5"
  }
 },
 "nbformat": 4,
 "nbformat_minor": 5
}
